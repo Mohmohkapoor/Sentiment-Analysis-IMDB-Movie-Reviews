{
 "cells": [
  {
   "cell_type": "markdown",
   "metadata": {
    "colab_type": "text",
    "id": "DmcNFGyW9dAB"
   },
   "source": [
    "# <h1 align = \"center\"> Keras Models</h1>"
   ]
  },
  {
   "cell_type": "markdown",
   "metadata": {
    "colab_type": "text",
    "id": "KAbdXGyT-vAN"
   },
   "source": [
    "The goal for this analysis is to predict if a review rates the movie positively or negatively. Inside this dataset, there are 25,000 labelled movies reviews for training, 50,000 unlabeled reviews for training, and 25,000 reviews for testing.\n",
    "<a href=\"https://imgur.com/FfdEBRz\"><img src=\"https://i.imgur.com/FfdEBRzm.png\" title=\"source: imgur.com\" align=\"right\"></a>\n",
    "- IMDB movie reviews dataset\n",
    "- http://ai.stanford.edu/~amaas/data/sentiment\n",
    "- https://www.kaggle.com/lakshmi25npathi/imdb-dataset-of-50k-movie-reviews\n",
    "- Contains 25000 positive and 25000 negative reviews\n",
    "- Contains at most reviews per movie\n",
    "- At least 7 stars out of 10 $\\rightarrow$ positive (label = 1)\n",
    "- At most 4 stars out of 10 $\\rightarrow$ negative (label = 0)\n",
    "\n",
    "\n",
    "This notebook uses [tf.keras](https://www.tensorflow.org/guide/keras), a high-level API to build and train models in TensorFlow\n",
    "> **Here, we use Keras Sequential API to train and test simple neural networks to classify sentiments of reviews by inputting tfidf features**"
   ]
  },
  {
   "cell_type": "markdown",
   "metadata": {
    "colab_type": "text",
    "id": "Zw2OdXqR97oQ"
   },
   "source": [
    "## <h2 align = \"center\">Dependencies</h2>"
   ]
  },
  {
   "cell_type": "code",
   "execution_count": 1,
   "metadata": {
    "colab": {
     "base_uri": "https://localhost:8080/",
     "height": 123
    },
    "colab_type": "code",
    "id": "CFDhgYmH9bmc",
    "outputId": "878c5789-a5e6-4510-ba33-6961ab1d9bd1"
   },
   "outputs": [
    {
     "name": "stderr",
     "output_type": "stream",
     "text": [
      "2023-05-20 22:00:37.425567: I tensorflow/core/platform/cpu_feature_guard.cc:193] This TensorFlow binary is optimized with oneAPI Deep Neural Network Library (oneDNN) to use the following CPU instructions in performance-critical operations:  SSE4.1 SSE4.2\n",
      "To enable them in other operations, rebuild TensorFlow with the appropriate compiler flags.\n"
     ]
    },
    {
     "name": "stdout",
     "output_type": "stream",
     "text": [
      "Version:  2.10.0\n",
      "Eager mode:  True\n",
      "WARNING:tensorflow:From /var/folders/yz/ylwfryqd1bb_6xm_lw55b2lc0000gn/T/ipykernel_1562/1255524121.py:26: is_gpu_available (from tensorflow.python.framework.test_util) is deprecated and will be removed in a future version.\n",
      "Instructions for updating:\n",
      "Use `tf.config.list_physical_devices('GPU')` instead.\n",
      "GPU is NOT AVAILABLE\n"
     ]
    },
    {
     "name": "stderr",
     "output_type": "stream",
     "text": [
      "2023-05-20 22:00:40.820101: I tensorflow/core/platform/cpu_feature_guard.cc:193] This TensorFlow binary is optimized with oneAPI Deep Neural Network Library (oneDNN) to use the following CPU instructions in performance-critical operations:  SSE4.1 SSE4.2\n",
      "To enable them in other operations, rebuild TensorFlow with the appropriate compiler flags.\n"
     ]
    }
   ],
   "source": [
    "import numpy as np\n",
    "import pandas as pd\n",
    "import matplotlib.pyplot as plt\n",
    "%matplotlib inline\n",
    "import seaborn as sns\n",
    "from sklearn.preprocessing import LabelEncoder\n",
    "from sklearn.metrics import accuracy_score, confusion_matrix\n",
    "from sklearn.model_selection import train_test_split\n",
    "from sklearn.feature_extraction.text import TfidfVectorizer\n",
    "from sklearn.feature_selection import SelectKBest, f_classif\n",
    "\n",
    "import tensorflow as tf\n",
    "from tensorflow.keras.models import Sequential\n",
    "from tensorflow.python.keras.callbacks import LambdaCallback, EarlyStopping\n",
    "from tensorflow.keras.layers import *\n",
    "from tensorflow.keras.preprocessing import text\n",
    "from tensorflow.keras.preprocessing.sequence import pad_sequences\n",
    "from keras.wrappers.scikit_learn import KerasClassifier\n",
    "\n",
    "\n",
    "import warnings\n",
    "warnings.filterwarnings('ignore')\n",
    "\n",
    "print(\"Version: \", tf.__version__)\n",
    "print(\"Eager mode: \", tf.executing_eagerly())\n",
    "print(\"GPU is\", \"available\" if tf.test.is_gpu_available() else \"NOT AVAILABLE\")"
   ]
  },
  {
   "cell_type": "code",
   "execution_count": 2,
   "metadata": {
    "colab": {
     "base_uri": "https://localhost:8080/",
     "height": 34
    },
    "colab_type": "code",
    "id": "7rxVlB-SMbNd",
    "outputId": "63fd2786-1a78-4dda-b1b9-c785be5f8b0e"
   },
   "outputs": [
    {
     "data": {
      "text/plain": [
       "\"\\ndevice_name = tf.test.gpu_device_name()\\nif device_name != '/device:GPU:0':\\n  raise SystemError('GPU device not found')\\nprint('Found GPU at: {}'.format(device_name))\\n\""
      ]
     },
     "execution_count": 2,
     "metadata": {},
     "output_type": "execute_result"
    }
   ],
   "source": [
    "'''\n",
    "device_name = tf.test.gpu_device_name()\n",
    "if device_name != '/device:GPU:0':\n",
    "  raise SystemError('GPU device not found')\n",
    "print('Found GPU at: {}'.format(device_name))\n",
    "'''"
   ]
  },
  {
   "cell_type": "code",
   "execution_count": 3,
   "metadata": {
    "colab": {
     "base_uri": "https://localhost:8080/",
     "height": 34
    },
    "colab_type": "code",
    "id": "bfcIlFC4F41g",
    "outputId": "59d36e18-9e6d-470e-b80f-048a92ce2257"
   },
   "outputs": [
    {
     "data": {
      "text/html": [
       "<div>\n",
       "<style scoped>\n",
       "    .dataframe tbody tr th:only-of-type {\n",
       "        vertical-align: middle;\n",
       "    }\n",
       "\n",
       "    .dataframe tbody tr th {\n",
       "        vertical-align: top;\n",
       "    }\n",
       "\n",
       "    .dataframe thead th {\n",
       "        text-align: right;\n",
       "    }\n",
       "</style>\n",
       "<table border=\"1\" class=\"dataframe\">\n",
       "  <thead>\n",
       "    <tr style=\"text-align: right;\">\n",
       "      <th></th>\n",
       "      <th>review</th>\n",
       "      <th>sentiment</th>\n",
       "    </tr>\n",
       "  </thead>\n",
       "  <tbody>\n",
       "    <tr>\n",
       "      <th>10303</th>\n",
       "      <td>This is standard fare from a director who as l...</td>\n",
       "      <td>positive</td>\n",
       "    </tr>\n",
       "    <tr>\n",
       "      <th>15109</th>\n",
       "      <td>Once you can get past the film's title, \"Pecke...</td>\n",
       "      <td>positive</td>\n",
       "    </tr>\n",
       "    <tr>\n",
       "      <th>39341</th>\n",
       "      <td>L'OSSESSA, also known as THE TORMENTED or THE ...</td>\n",
       "      <td>positive</td>\n",
       "    </tr>\n",
       "    <tr>\n",
       "      <th>2447</th>\n",
       "      <td>Sometimes they get lucky and have a hit on the...</td>\n",
       "      <td>positive</td>\n",
       "    </tr>\n",
       "    <tr>\n",
       "      <th>23676</th>\n",
       "      <td>I really truly enjoyed this movie. (Which is w...</td>\n",
       "      <td>positive</td>\n",
       "    </tr>\n",
       "    <tr>\n",
       "      <th>10043</th>\n",
       "      <td>I cannot say this movie is a disappointment be...</td>\n",
       "      <td>positive</td>\n",
       "    </tr>\n",
       "    <tr>\n",
       "      <th>5693</th>\n",
       "      <td>I noticed this movie was getting trashed well ...</td>\n",
       "      <td>positive</td>\n",
       "    </tr>\n",
       "  </tbody>\n",
       "</table>\n",
       "</div>"
      ],
      "text/plain": [
       "                                                  review sentiment\n",
       "10303  This is standard fare from a director who as l...  positive\n",
       "15109  Once you can get past the film's title, \"Pecke...  positive\n",
       "39341  L'OSSESSA, also known as THE TORMENTED or THE ...  positive\n",
       "2447   Sometimes they get lucky and have a hit on the...  positive\n",
       "23676  I really truly enjoyed this movie. (Which is w...  positive\n",
       "10043  I cannot say this movie is a disappointment be...  positive\n",
       "5693   I noticed this movie was getting trashed well ...  positive"
      ]
     },
     "execution_count": 3,
     "metadata": {},
     "output_type": "execute_result"
    }
   ],
   "source": [
    "movies = pd.read_csv('/Users/mohitkapoor/Downloads/New code/imdb_data.csv')\n",
    "movies.sample(7)"
   ]
  },
  {
   "cell_type": "markdown",
   "metadata": {
    "colab_type": "text",
    "id": "IstLZZ5OG3U8"
   },
   "source": [
    "> **Binarize the sentiment column**"
   ]
  },
  {
   "cell_type": "code",
   "execution_count": 4,
   "metadata": {
    "colab": {
     "base_uri": "https://localhost:8080/",
     "height": 263
    },
    "colab_type": "code",
    "id": "fsRxNWaDG2sJ",
    "outputId": "8829dc08-c350-441c-a052-7838acd38e18"
   },
   "outputs": [
    {
     "data": {
      "text/html": [
       "<div>\n",
       "<style scoped>\n",
       "    .dataframe tbody tr th:only-of-type {\n",
       "        vertical-align: middle;\n",
       "    }\n",
       "\n",
       "    .dataframe tbody tr th {\n",
       "        vertical-align: top;\n",
       "    }\n",
       "\n",
       "    .dataframe thead th {\n",
       "        text-align: right;\n",
       "    }\n",
       "</style>\n",
       "<table border=\"1\" class=\"dataframe\">\n",
       "  <thead>\n",
       "    <tr style=\"text-align: right;\">\n",
       "      <th></th>\n",
       "      <th>review</th>\n",
       "      <th>sentiment</th>\n",
       "    </tr>\n",
       "  </thead>\n",
       "  <tbody>\n",
       "    <tr>\n",
       "      <th>46201</th>\n",
       "      <td>I gave this movie a four-star rating for a few...</td>\n",
       "      <td>0</td>\n",
       "    </tr>\n",
       "    <tr>\n",
       "      <th>44078</th>\n",
       "      <td>Yeah this films is tops. Cant recommend it mor...</td>\n",
       "      <td>1</td>\n",
       "    </tr>\n",
       "    <tr>\n",
       "      <th>29928</th>\n",
       "      <td>The first full-length film featuring the Aardm...</td>\n",
       "      <td>1</td>\n",
       "    </tr>\n",
       "    <tr>\n",
       "      <th>15353</th>\n",
       "      <td>xica da Silva is one of the best Brazilians op...</td>\n",
       "      <td>1</td>\n",
       "    </tr>\n",
       "    <tr>\n",
       "      <th>10458</th>\n",
       "      <td>This is one of the best Czech movies I have ev...</td>\n",
       "      <td>1</td>\n",
       "    </tr>\n",
       "    <tr>\n",
       "      <th>19015</th>\n",
       "      <td>\"Everything is Illuminated\" is like viewing a ...</td>\n",
       "      <td>1</td>\n",
       "    </tr>\n",
       "    <tr>\n",
       "      <th>19029</th>\n",
       "      <td>An excellent thriller of all time. Vijay Anand...</td>\n",
       "      <td>1</td>\n",
       "    </tr>\n",
       "  </tbody>\n",
       "</table>\n",
       "</div>"
      ],
      "text/plain": [
       "                                                  review  sentiment\n",
       "46201  I gave this movie a four-star rating for a few...          0\n",
       "44078  Yeah this films is tops. Cant recommend it mor...          1\n",
       "29928  The first full-length film featuring the Aardm...          1\n",
       "15353  xica da Silva is one of the best Brazilians op...          1\n",
       "10458  This is one of the best Czech movies I have ev...          1\n",
       "19015  \"Everything is Illuminated\" is like viewing a ...          1\n",
       "19029  An excellent thriller of all time. Vijay Anand...          1"
      ]
     },
     "execution_count": 4,
     "metadata": {},
     "output_type": "execute_result"
    }
   ],
   "source": [
    "le = LabelEncoder()\n",
    "movies['sentiment'] = le.fit_transform(movies['sentiment'])\n",
    "movies.sample(7)"
   ]
  },
  {
   "cell_type": "markdown",
   "metadata": {
    "colab_type": "text",
    "id": "BSby0Ik2IGxT"
   },
   "source": [
    " > **Vectorize the reviews text**"
   ]
  },
  {
   "cell_type": "code",
   "execution_count": 5,
   "metadata": {
    "colab": {
     "base_uri": "https://localhost:8080/",
     "height": 34
    },
    "colab_type": "code",
    "id": "_zYXdJ8N90wx",
    "outputId": "1401d0f9-cf0a-4dd8-c490-f6dd3ef9874e"
   },
   "outputs": [
    {
     "data": {
      "text/plain": [
       "(50000, 20000)"
      ]
     },
     "execution_count": 5,
     "metadata": {},
     "output_type": "execute_result"
    }
   ],
   "source": [
    "NGRAM_RANGE = (1, 2)\n",
    "TOP_K = 20000\n",
    "TOKEN_MODE = 'word'\n",
    "MIN_DOC_FREQ = 2\n",
    "\n",
    "def ngram_vectorize(texts, labels):\n",
    "    kwargs = {\n",
    "        'ngram_range' : NGRAM_RANGE,\n",
    "        'dtype' : 'int32',\n",
    "        'strip_accents' : 'unicode',\n",
    "        'decode_error' : 'replace',\n",
    "        'analyzer' : TOKEN_MODE,\n",
    "        'min_df' : MIN_DOC_FREQ\n",
    "    }\n",
    "\n",
    "    transformed_texts = TfidfVectorizer(**kwargs).fit_transform(texts)\n",
    "    \n",
    "    # Select best k features, with feature importance measured by f_classif\n",
    "    # Set k as 20000 or (if number of ngrams is less) number of ngrams   \n",
    "    selector = SelectKBest(f_classif, k=min(TOP_K, transformed_texts.shape[1]))\n",
    "    selector.fit(transformed_texts, labels)\n",
    "    transformed_texts = selector.transform(transformed_texts).astype('float32')\n",
    "    return transformed_texts\n",
    "\n",
    "vect_reviews = ngram_vectorize(movies['review'], movies['sentiment'])\n",
    "vect_reviews.shape"
   ]
  },
  {
   "cell_type": "markdown",
   "metadata": {
    "colab_type": "text",
    "id": "zpRD5_kdIMW3"
   },
   "source": [
    "> **Split the data**"
   ]
  },
  {
   "cell_type": "code",
   "execution_count": 6,
   "metadata": {
    "colab": {
     "base_uri": "https://localhost:8080/",
     "height": 52
    },
    "colab_type": "code",
    "id": "awjc0YmM90-W",
    "outputId": "9e452aeb-4e1f-4a46-87e3-e44cf9bc1d6b",
    "scrolled": false
   },
   "outputs": [
    {
     "name": "stdout",
     "output_type": "stream",
     "text": [
      "Train dataset shape: (40000, 20000), \n",
      "Test dataset shape: (10000, 20000)\n"
     ]
    }
   ],
   "source": [
    "X = vect_reviews.toarray()\n",
    "y = (np.array(movies['sentiment']))\n",
    "\n",
    "X_train, X_test, y_train, y_test = train_test_split(X, y, test_size=0.2, random_state=7)\n",
    "print(f\"Train dataset shape: {X_train.shape}, \\nTest dataset shape: {X_test.shape}\")"
   ]
  },
  {
   "cell_type": "markdown",
   "metadata": {
    "colab_type": "text",
    "id": "ER6jEWJ0I4Te"
   },
   "source": [
    "## <h2 align = \"center\">Modeling the data</h2>"
   ]
  },
  {
   "cell_type": "code",
   "execution_count": 7,
   "metadata": {},
   "outputs": [],
   "source": [
    "simple_log = LambdaCallback(\n",
    "    on_epoch_end = lambda e, l: print(f\" ~| Epoch: {e+1} | Validation Loss: {l['val_loss']:.5f}\", end =\" >|> \\n\" ))\n",
    "\n",
    "early_stop = EarlyStopping(monitor='val_loss',\n",
    "                              min_delta=0,\n",
    "                              patience=1,\n",
    "                              verbose=0, \n",
    "                              restore_best_weights=True)\n",
    "sns.set()\n",
    "def plot_learning_curve(hist):\n",
    "    plt.figure(figsize=(5,5))\n",
    "    if 'accuracy' in hist.history:\n",
    "        train = hist.history['accuracy']\n",
    "        val = hist.history['val_accuracy']\n",
    "    else:\n",
    "        train = hist.history['acc']\n",
    "        val = hist.history['val_acc']\n",
    "    epochs_run = range(1,len(train) + 1)\n",
    "    sns.lineplot(x=epochs_run, y=train, marker='o', color='coral', label='Training Accuracy')\n",
    "    sns.lineplot(x=epochs_run, y=val, marker='>', color='green', label='Validation Accuracy')\n",
    "    plt.title(\"Accuracies vs. Epochs\", fontsize = 20)\n",
    "    plt.legend()\n",
    "    plt.show()\n"
   ]
  },
  {
   "cell_type": "code",
   "execution_count": 8,
   "metadata": {
    "colab": {
     "base_uri": "https://localhost:8080/",
     "height": 229
    },
    "colab_type": "code",
    "id": "7bLEaoSw91Xl",
    "outputId": "24b0393a-bfd5-43de-8d51-008b4081352e"
   },
   "outputs": [
    {
     "name": "stdout",
     "output_type": "stream",
     "text": [
      "Model: \"sequential\"\n",
      "_________________________________________________________________\n",
      " Layer (type)                Output Shape              Param #   \n",
      "=================================================================\n",
      " dense (Dense)               (None, 64)                1280064   \n",
      "                                                                 \n",
      " dense_1 (Dense)             (None, 1)                 65        \n",
      "                                                                 \n",
      "=================================================================\n",
      "Total params: 1,280,129\n",
      "Trainable params: 1,280,129\n",
      "Non-trainable params: 0\n",
      "_________________________________________________________________\n"
     ]
    }
   ],
   "source": [
    "input_shape = X_train.shape[1:]\n",
    "\n",
    "model = Sequential([    \n",
    "    Dense(64, activation = 'relu', input_shape = input_shape),\n",
    "    Dense(1, activation = 'sigmoid')\n",
    "])\n",
    "\n",
    "model.compile(\n",
    "    loss = 'binary_crossentropy',\n",
    "    optimizer = 'adam',\n",
    "    metrics = ['accuracy']\n",
    ")\n",
    "\n",
    "model.summary()"
   ]
  },
  {
   "cell_type": "code",
   "execution_count": 9,
   "metadata": {
    "colab": {
     "base_uri": "https://localhost:8080/",
     "height": 1000
    },
    "colab_type": "code",
    "id": "9L2C8tbQ91V5",
    "outputId": "a90a2aac-fab3-45a1-e0fa-9756841fefa4"
   },
   "outputs": [
    {
     "name": "stdout",
     "output_type": "stream",
     "text": [
      " ~| Epoch: 1 | Validation Loss: 0.18449 >|> \n",
      " ~| Epoch: 2 | Validation Loss: 0.17416 >|> \n",
      " ~| Epoch: 3 | Validation Loss: 0.18565 >|> \n",
      "\n",
      "Done.\n"
     ]
    }
   ],
   "source": [
    "epochs = 20\n",
    "\n",
    "h = model.fit(\n",
    "    X_train, y_train,\n",
    "    validation_split = 0.2,\n",
    "    epochs = epochs,\n",
    "    callbacks = [early_stop, simple_log],\n",
    "    verbose = False)\n",
    "print(\"\\nDone.\")"
   ]
  },
  {
   "cell_type": "code",
   "execution_count": 10,
   "metadata": {
    "colab": {
     "base_uri": "https://localhost:8080/",
     "height": 205
    },
    "colab_type": "code",
    "id": "CRZ12LUt91Rp",
    "outputId": "bd2f33b3-3679-4f08-c6eb-9092cbf4aa9a",
    "scrolled": false
   },
   "outputs": [
    {
     "data": {
      "image/png": "[encoded data removed]",
      "text/plain": [
       "<Figure size 500x500 with 1 Axes>"
      ]
     },
     "metadata": {},
     "output_type": "display_data"
    }
   ],
   "source": [
    "plot_learning_curve(h)"
   ]
  },
  {
   "cell_type": "markdown",
   "metadata": {
    "colab_type": "text",
    "id": "dhAFmV-lSRnI"
   },
   "source": [
    "> **Classic case of overfitting**"
   ]
  },
  {
   "cell_type": "code",
   "execution_count": 11,
   "metadata": {
    "colab": {
     "base_uri": "https://localhost:8080/",
     "height": 52
    },
    "colab_type": "code",
    "id": "RyBP5TaR91Pt",
    "outputId": "62b39ff9-4908-4858-a39c-c7843bffcb87"
   },
   "outputs": [
    {
     "name": "stdout",
     "output_type": "stream",
     "text": [
      "313/313 [==============================] - 1s 2ms/step - loss: 0.1923 - accuracy: 0.9248\n",
      "Testing Accuracy:  92.47999787330627\n"
     ]
    }
   ],
   "source": [
    "loss, acc = model.evaluate(X_test, y_test)\n",
    "print(\"Testing Accuracy: \", acc*100)"
   ]
  },
  {
   "cell_type": "markdown",
   "metadata": {
    "colab_type": "text",
    "id": "MrB6H3alTJDf"
   },
   "source": [
    "> **Trying dropout regularization**"
   ]
  },
  {
   "cell_type": "code",
   "execution_count": 12,
   "metadata": {
    "colab": {
     "base_uri": "https://localhost:8080/",
     "height": 264
    },
    "colab_type": "code",
    "id": "6odmBWBI91NX",
    "outputId": "83bfff58-9ae1-48ed-cfae-84ccbe0309ba"
   },
   "outputs": [
    {
     "name": "stdout",
     "output_type": "stream",
     "text": [
      "Model: \"sequential_1\"\n",
      "_________________________________________________________________\n",
      " Layer (type)                Output Shape              Param #   \n",
      "=================================================================\n",
      " dense_2 (Dense)             (None, 20)                400020    \n",
      "                                                                 \n",
      " dropout (Dropout)           (None, 20)                0         \n",
      "                                                                 \n",
      " dense_3 (Dense)             (None, 1)                 21        \n",
      "                                                                 \n",
      "=================================================================\n",
      "Total params: 400,041\n",
      "Trainable params: 400,041\n",
      "Non-trainable params: 0\n",
      "_________________________________________________________________\n"
     ]
    }
   ],
   "source": [
    "input_shape = X_train.shape[1:]\n",
    "from tensorflow.keras.regularizers import l2\n",
    "\n",
    "model2 = Sequential([    \n",
    "    Dense(20, activation = 'relu', input_shape = input_shape, kernel_regularizer=l2()),\n",
    "    Dropout(0.2),\n",
    "    Dense(1, activation = 'sigmoid')\n",
    "])\n",
    "\n",
    "model2.compile(\n",
    "    loss = 'binary_crossentropy',\n",
    "    optimizer = 'adam',\n",
    "    metrics = ['accuracy']\n",
    ")\n",
    "\n",
    "model2.summary()"
   ]
  },
  {
   "cell_type": "code",
   "execution_count": 13,
   "metadata": {
    "colab": {
     "base_uri": "https://localhost:8080/",
     "height": 229
    },
    "colab_type": "code",
    "id": "Ek9m9Zdm91Jh",
    "outputId": "08b4c0e6-deea-4bff-f615-a3f8e59f1967"
   },
   "outputs": [
    {
     "name": "stdout",
     "output_type": "stream",
     "text": [
      " ~| Epoch: 1 | Validation Loss: 0.67353 >|> \n",
      " ~| Epoch: 2 | Validation Loss: 0.63628 >|> \n",
      " ~| Epoch: 3 | Validation Loss: 0.60331 >|> \n",
      " ~| Epoch: 4 | Validation Loss: 0.57269 >|> \n",
      " ~| Epoch: 5 | Validation Loss: 0.54912 >|> \n",
      " ~| Epoch: 6 | Validation Loss: 0.53062 >|> \n",
      " ~| Epoch: 7 | Validation Loss: 0.51582 >|> \n",
      " ~| Epoch: 8 | Validation Loss: 0.50441 >|> \n",
      " ~| Epoch: 9 | Validation Loss: 0.49161 >|> \n",
      " ~| Epoch: 10 | Validation Loss: 0.48200 >|> \n",
      "Done.\n"
     ]
    }
   ],
   "source": [
    "epochs = 10\n",
    "\n",
    "h2 = model2.fit(\n",
    "    X_train, y_train,\n",
    "    validation_split = 0.2,\n",
    "    epochs = epochs,\n",
    "    callbacks = [early_stop, simple_log],\n",
    "    verbose = False)\n",
    "print(\"Done.\")"
   ]
  },
  {
   "cell_type": "code",
   "execution_count": 15,
   "metadata": {
    "colab": {
     "base_uri": "https://localhost:8080/",
     "height": 390
    },
    "colab_type": "code",
    "id": "GSY_LcHB91Hj",
    "outputId": "05eedbaf-0d02-4a81-c7e5-eb6d0f4e9abe",
    "scrolled": true
   },
   "outputs": [
    {
     "data": {
      "image/png": "[encoded data removed]",
      "text/plain": [
       "<Figure size 500x500 with 1 Axes>"
      ]
     },
     "metadata": {},
     "output_type": "display_data"
    }
   ],
   "source": [
    "plot_learning_curve(h2)"
   ]
  },
  {
   "cell_type": "code",
   "execution_count": 16,
   "metadata": {
    "colab": {
     "base_uri": "https://localhost:8080/",
     "height": 52
    },
    "colab_type": "code",
    "id": "4jm33krA91GH",
    "outputId": "cbacb1c2-32e3-417c-c034-451934a872b6"
   },
   "outputs": [
    {
     "name": "stdout",
     "output_type": "stream",
     "text": [
      "313/313 [==============================] - 1s 1ms/step - loss: 0.4874 - accuracy: 0.8861\n",
      "Testing Accuracy:  88.60999941825867\n"
     ]
    }
   ],
   "source": [
    "loss, acc = model2.evaluate(X_test, y_test)\n",
    "print(\"Testing Accuracy: \", acc*100)"
   ]
  },
  {
   "cell_type": "code",
   "execution_count": 17,
   "metadata": {
    "colab": {
     "base_uri": "https://localhost:8080/",
     "height": 229
    },
    "colab_type": "code",
    "id": "a1nOazZE91Eq",
    "outputId": "fca5508b-3eb0-4c06-c44a-a6f2e05ff5d1"
   },
   "outputs": [
    {
     "name": "stdout",
     "output_type": "stream",
     "text": [
      "Model: \"sequential_2\"\n",
      "_________________________________________________________________\n",
      " Layer (type)                Output Shape              Param #   \n",
      "=================================================================\n",
      " dense_4 (Dense)             (None, 64)                1280064   \n",
      "                                                                 \n",
      " dropout_1 (Dropout)         (None, 64)                0         \n",
      "                                                                 \n",
      " dense_5 (Dense)             (None, 16)                1040      \n",
      "                                                                 \n",
      " dropout_2 (Dropout)         (None, 16)                0         \n",
      "                                                                 \n",
      " dense_6 (Dense)             (None, 1)                 17        \n",
      "                                                                 \n",
      "=================================================================\n",
      "Total params: 1,281,121\n",
      "Trainable params: 1,281,121\n",
      "Non-trainable params: 0\n",
      "_________________________________________________________________\n"
     ]
    }
   ],
   "source": [
    "input_shape = X_train.shape[1:]\n",
    "from tensorflow.keras.regularizers import l2\n",
    "\n",
    "model3 = Sequential([   \n",
    "    Dense(64, activation = 'relu', input_shape = input_shape),\n",
    "    Dropout(0.2),\n",
    "    Dense(16, activation = 'relu'),\n",
    "    Dropout(0.2),\n",
    "    Dense(1, activation = 'sigmoid')\n",
    "])\n",
    "\n",
    "model3.compile(\n",
    "    loss = 'binary_crossentropy',\n",
    "    optimizer = 'adam',\n",
    "    metrics = ['accuracy']\n",
    ")\n",
    "\n",
    "model3.summary()"
   ]
  },
  {
   "cell_type": "code",
   "execution_count": 18,
   "metadata": {
    "colab": {
     "base_uri": "https://localhost:8080/",
     "height": 34
    },
    "colab_type": "code",
    "id": "0Qb6uj-G9087",
    "outputId": "47bab320-edb0-4c14-cc0a-707ac9858ad2",
    "scrolled": true
   },
   "outputs": [
    {
     "name": "stdout",
     "output_type": "stream",
     "text": [
      " ~| Epoch: 1 | Validation Loss: 0.18333 >|> \n",
      " ~| Epoch: 2 | Validation Loss: 0.18673 >|> \n",
      "\n",
      "Done.\n"
     ]
    }
   ],
   "source": [
    "epochs = 20\n",
    "\n",
    "h3 = model3.fit(\n",
    "    X_train, y_train,\n",
    "    validation_split = 0.2,\n",
    "    epochs = epochs,\n",
    "    callbacks = [early_stop, simple_log],\n",
    "    verbose = False\n",
    ")\n",
    "print(\"\\nDone.\")"
   ]
  },
  {
   "cell_type": "code",
   "execution_count": 19,
   "metadata": {
    "colab": {},
    "colab_type": "code",
    "id": "vweDHdyT906e",
    "scrolled": true
   },
   "outputs": [
    {
     "data": {
      "image/png": "[encoded data removed]",
      "text/plain": [
       "<Figure size 500x500 with 1 Axes>"
      ]
     },
     "metadata": {},
     "output_type": "display_data"
    }
   ],
   "source": [
    "plot_learning_curve(h3)"
   ]
  },
  {
   "cell_type": "code",
   "execution_count": 20,
   "metadata": {
    "colab": {},
    "colab_type": "code",
    "id": "Yzr7oiLo903n"
   },
   "outputs": [
    {
     "name": "stdout",
     "output_type": "stream",
     "text": [
      "313/313 [==============================] - 1s 2ms/step - loss: 0.1982 - accuracy: 0.9231\n",
      "Testing Accuracy:  92.30999946594238\n"
     ]
    }
   ],
   "source": [
    "loss, acc = model3.evaluate(X_test, y_test)\n",
    "print(\"Testing Accuracy: \", acc*100)"
   ]
  },
  {
   "cell_type": "markdown",
   "metadata": {},
   "source": [
    "### <h3 align = \"center\">Optimize activations and learning rate</h3>"
   ]
  },
  {
   "cell_type": "code",
   "execution_count": 21,
   "metadata": {
    "colab": {},
    "colab_type": "code",
    "id": "xd1tJdu19016"
   },
   "outputs": [],
   "source": [
    "def create_model(learning_rate=0.01, activation='relu'):\n",
    "    opt = tf.keras.optimizers.Adam(lr=learning_rate)\n",
    "    model = Sequential()\n",
    "    model.add(Dense(64, input_shape=input_shape, activation=activation)),\n",
    "    Dropout(0.2),\n",
    "    model.add(Dense(16, activation=activation))\n",
    "    model.add(Dense(1, activation='sigmoid'))\n",
    "    \n",
    "    model.compile(optimizer=opt, loss='binary_crossentropy', metrics=['accuracy'])\n",
    "    return model"
   ]
  },
  {
   "cell_type": "code",
   "execution_count": 22,
   "metadata": {
    "colab": {},
    "colab_type": "code",
    "id": "yvkpAZii90tP"
   },
   "outputs": [
    {
     "name": "stdout",
     "output_type": "stream",
     "text": [
      "Epoch 1/10\n",
      "157/157 [==============================] - 2s 9ms/step - loss: 0.2799 - accuracy: 0.8784\n",
      "Epoch 2/10\n",
      "157/157 [==============================] - 1s 7ms/step - loss: 0.0827 - accuracy: 0.9717\n",
      "Epoch 3/10\n",
      "157/157 [==============================] - 1s 8ms/step - loss: 0.0324 - accuracy: 0.9896\n",
      "Epoch 4/10\n",
      "157/157 [==============================] - 1s 7ms/step - loss: 0.0110 - accuracy: 0.9968\n",
      "Epoch 5/10\n",
      "157/157 [==============================] - 1s 7ms/step - loss: 0.0030 - accuracy: 0.9992\n",
      "Epoch 6/10\n",
      "157/157 [==============================] - 1s 7ms/step - loss: 6.8129e-04 - accuracy: 0.9999\n",
      "Epoch 7/10\n",
      "157/157 [==============================] - 1s 7ms/step - loss: 8.6039e-05 - accuracy: 1.0000\n",
      "Epoch 8/10\n",
      "157/157 [==============================] - 1s 8ms/step - loss: 4.1386e-05 - accuracy: 1.0000\n",
      "Epoch 9/10\n",
      "157/157 [==============================] - 1s 9ms/step - loss: 2.7478e-05 - accuracy: 1.0000\n",
      "Epoch 10/10\n",
      "157/157 [==============================] - 1s 8ms/step - loss: 1.9743e-05 - accuracy: 1.0000\n",
      "157/157 [==============================] - 1s 5ms/step - loss: 0.8833 - accuracy: 0.9039\n",
      "Epoch 1/10\n",
      "157/157 [==============================] - 2s 9ms/step - loss: 0.2654 - accuracy: 0.8959\n",
      "Epoch 2/10\n",
      "157/157 [==============================] - 1s 7ms/step - loss: 0.0793 - accuracy: 0.9720\n",
      "Epoch 3/10\n",
      "157/157 [==============================] - 1s 7ms/step - loss: 0.0314 - accuracy: 0.9894\n",
      "Epoch 4/10\n",
      "157/157 [==============================] - 1s 7ms/step - loss: 0.0117 - accuracy: 0.9959\n",
      "Epoch 5/10\n",
      "157/157 [==============================] - 1s 7ms/step - loss: 0.0092 - accuracy: 0.9965\n",
      "Epoch 6/10\n",
      "157/157 [==============================] - 1s 7ms/step - loss: 0.0137 - accuracy: 0.9956\n",
      "Epoch 7/10\n",
      "157/157 [==============================] - 1s 7ms/step - loss: 0.0243 - accuracy: 0.9910\n",
      "Epoch 8/10\n",
      "157/157 [==============================] - 1s 8ms/step - loss: 0.0175 - accuracy: 0.9930\n",
      "Epoch 9/10\n",
      "157/157 [==============================] - 1s 9ms/step - loss: 0.0041 - accuracy: 0.9991\n",
      "Epoch 10/10\n",
      "157/157 [==============================] - 1s 8ms/step - loss: 2.9086e-04 - accuracy: 1.0000\n",
      "157/157 [==============================] - 1s 5ms/step - loss: 0.6874 - accuracy: 0.8979\n",
      "Epoch 1/5\n",
      "79/79 [==============================] - 2s 16ms/step - loss: 0.5315 - accuracy: 0.8591\n",
      "Epoch 2/5\n",
      "79/79 [==============================] - 1s 14ms/step - loss: 0.2187 - accuracy: 0.9280\n",
      "Epoch 3/5\n",
      "79/79 [==============================] - 1s 16ms/step - loss: 0.1281 - accuracy: 0.9584\n",
      "Epoch 4/5\n",
      "79/79 [==============================] - 1s 18ms/step - loss: 0.0810 - accuracy: 0.9774\n",
      "Epoch 5/5\n",
      "79/79 [==============================] - 1s 18ms/step - loss: 0.0498 - accuracy: 0.9895\n",
      "79/79 [==============================] - 1s 12ms/step - loss: 0.2086 - accuracy: 0.9200\n",
      "Epoch 1/5\n",
      "79/79 [==============================] - 2s 19ms/step - loss: 0.5155 - accuracy: 0.8665\n",
      "Epoch 2/5\n",
      "79/79 [==============================] - 1s 14ms/step - loss: 0.2160 - accuracy: 0.9287\n",
      "Epoch 3/5\n",
      "79/79 [==============================] - 1s 15ms/step - loss: 0.1318 - accuracy: 0.9566\n",
      "Epoch 4/5\n",
      "79/79 [==============================] - 1s 14ms/step - loss: 0.0868 - accuracy: 0.9755\n",
      "Epoch 5/5\n",
      "79/79 [==============================] - 1s 14ms/step - loss: 0.0550 - accuracy: 0.9880\n",
      "79/79 [==============================] - 1s 10ms/step - loss: 0.2013 - accuracy: 0.9234\n",
      "Epoch 1/5\n",
      "313/313 [==============================] - 2s 5ms/step - loss: 0.3380 - accuracy: 0.8634\n",
      "Epoch 2/5\n",
      "313/313 [==============================] - 1s 5ms/step - loss: 0.1162 - accuracy: 0.9599\n",
      "Epoch 3/5\n",
      "313/313 [==============================] - 2s 5ms/step - loss: 0.0486 - accuracy: 0.9877\n",
      "Epoch 4/5\n",
      "313/313 [==============================] - 2s 5ms/step - loss: 0.0179 - accuracy: 0.9978\n",
      "Epoch 5/5\n",
      "313/313 [==============================] - 2s 5ms/step - loss: 0.0068 - accuracy: 0.9995\n",
      "313/313 [==============================] - 1s 3ms/step - loss: 0.3166 - accuracy: 0.9138\n",
      "Epoch 1/5\n",
      "313/313 [==============================] - 2s 5ms/step - loss: 0.3589 - accuracy: 0.8751\n",
      "Epoch 2/5\n",
      "313/313 [==============================] - 1s 5ms/step - loss: 0.1282 - accuracy: 0.9550\n",
      "Epoch 3/5\n",
      "313/313 [==============================] - 1s 5ms/step - loss: 0.0625 - accuracy: 0.9827\n",
      "Epoch 4/5\n",
      "313/313 [==============================] - 1s 5ms/step - loss: 0.0274 - accuracy: 0.9958\n",
      "Epoch 5/5\n",
      "313/313 [==============================] - 1s 5ms/step - loss: 0.0104 - accuracy: 0.9992\n",
      "313/313 [==============================] - 1s 3ms/step - loss: 0.2861 - accuracy: 0.9141\n",
      "Epoch 1/10\n",
      "79/79 [==============================] - 2s 16ms/step - loss: 0.2997 - accuracy: 0.8687\n",
      "Epoch 2/10\n",
      "79/79 [==============================] - 1s 15ms/step - loss: 0.0746 - accuracy: 0.9731\n",
      "Epoch 3/10\n",
      "79/79 [==============================] - 1s 15ms/step - loss: 0.0285 - accuracy: 0.9904\n",
      "Epoch 4/10\n",
      "79/79 [==============================] - 1s 15ms/step - loss: 0.0177 - accuracy: 0.9938\n",
      "Epoch 5/10\n",
      "79/79 [==============================] - 1s 15ms/step - loss: 0.0151 - accuracy: 0.9944\n",
      "Epoch 6/10\n",
      "79/79 [==============================] - 1s 15ms/step - loss: 0.0152 - accuracy: 0.9947\n",
      "Epoch 7/10\n",
      "79/79 [==============================] - 1s 15ms/step - loss: 0.0128 - accuracy: 0.9955\n",
      "Epoch 8/10\n",
      "79/79 [==============================] - 1s 15ms/step - loss: 0.0080 - accuracy: 0.9967\n",
      "Epoch 9/10\n",
      "79/79 [==============================] - 1s 15ms/step - loss: 0.0104 - accuracy: 0.9963\n",
      "Epoch 10/10\n",
      "79/79 [==============================] - 1s 15ms/step - loss: 0.0084 - accuracy: 0.9970\n",
      "79/79 [==============================] - 1s 10ms/step - loss: 0.6279 - accuracy: 0.8963\n",
      "Epoch 1/10\n",
      "79/79 [==============================] - 2s 16ms/step - loss: 0.2736 - accuracy: 0.8806\n",
      "Epoch 2/10\n",
      "79/79 [==============================] - 1s 15ms/step - loss: 0.0643 - accuracy: 0.9769\n",
      "Epoch 3/10\n",
      "79/79 [==============================] - 1s 15ms/step - loss: 0.0241 - accuracy: 0.9909\n",
      "Epoch 4/10\n",
      "79/79 [==============================] - 1s 15ms/step - loss: 0.0226 - accuracy: 0.9919\n",
      "Epoch 5/10\n",
      "79/79 [==============================] - 1s 15ms/step - loss: 0.0146 - accuracy: 0.9948\n",
      "Epoch 6/10\n",
      "79/79 [==============================] - 1s 15ms/step - loss: 0.0107 - accuracy: 0.9961\n",
      "Epoch 7/10\n",
      "79/79 [==============================] - 1s 15ms/step - loss: 0.0084 - accuracy: 0.9969\n",
      "Epoch 8/10\n",
      "79/79 [==============================] - 1s 15ms/step - loss: 0.0098 - accuracy: 0.9965\n",
      "Epoch 9/10\n",
      "79/79 [==============================] - 1s 15ms/step - loss: 0.0094 - accuracy: 0.9976\n",
      "Epoch 10/10\n",
      "79/79 [==============================] - 1s 15ms/step - loss: 0.0035 - accuracy: 0.9992\n",
      "79/79 [==============================] - 1s 10ms/step - loss: 0.7521 - accuracy: 0.8992\n",
      "Epoch 1/3\n",
      "313/313 [==============================] - 2s 6ms/step - loss: 0.3547 - accuracy: 0.8730\n",
      "Epoch 2/3\n",
      "313/313 [==============================] - 2s 5ms/step - loss: 0.1233 - accuracy: 0.9578\n",
      "Epoch 3/3\n",
      "313/313 [==============================] - 1s 5ms/step - loss: 0.0577 - accuracy: 0.9851\n",
      "313/313 [==============================] - 1s 3ms/step - loss: 0.2305 - accuracy: 0.9168\n",
      "Epoch 1/3\n",
      "313/313 [==============================] - 2s 5ms/step - loss: 0.3439 - accuracy: 0.8856\n",
      "Epoch 2/3\n",
      "313/313 [==============================] - 2s 5ms/step - loss: 0.1220 - accuracy: 0.9560\n",
      "Epoch 3/3\n",
      "313/313 [==============================] - 2s 5ms/step - loss: 0.0558 - accuracy: 0.9845\n",
      "313/313 [==============================] - 1s 3ms/step - loss: 0.2299 - accuracy: 0.9168\n",
      "Epoch 1/10\n",
      "313/313 [==============================] - 2s 5ms/step - loss: 0.2516 - accuracy: 0.8939\n",
      "Epoch 2/10\n",
      "313/313 [==============================] - 2s 5ms/step - loss: 0.0742 - accuracy: 0.9732\n",
      "Epoch 3/10\n",
      "313/313 [==============================] - 2s 5ms/step - loss: 0.0275 - accuracy: 0.9893\n",
      "Epoch 4/10\n",
      "313/313 [==============================] - 2s 5ms/step - loss: 0.0232 - accuracy: 0.9918\n",
      "Epoch 5/10\n",
      "313/313 [==============================] - 2s 5ms/step - loss: 0.0143 - accuracy: 0.9951\n",
      "Epoch 6/10\n",
      "313/313 [==============================] - 2s 5ms/step - loss: 0.0048 - accuracy: 0.9984\n",
      "Epoch 7/10\n",
      "313/313 [==============================] - 2s 5ms/step - loss: 0.0017 - accuracy: 0.9994\n",
      "Epoch 8/10\n"
     ]
    },
    {
     "name": "stdout",
     "output_type": "stream",
     "text": [
      "313/313 [==============================] - 2s 5ms/step - loss: 0.0042 - accuracy: 0.9984\n",
      "Epoch 9/10\n",
      "313/313 [==============================] - 2s 6ms/step - loss: 0.0127 - accuracy: 0.9962\n",
      "Epoch 10/10\n",
      "313/313 [==============================] - 2s 5ms/step - loss: 0.0096 - accuracy: 0.9965\n",
      "313/313 [==============================] - 1s 3ms/step - loss: 0.6170 - accuracy: 0.9021\n",
      "Epoch 1/10\n",
      "313/313 [==============================] - 2s 5ms/step - loss: 0.2520 - accuracy: 0.8958\n",
      "Epoch 2/10\n",
      "313/313 [==============================] - 2s 5ms/step - loss: 0.0756 - accuracy: 0.9730\n",
      "Epoch 3/10\n",
      "313/313 [==============================] - 2s 5ms/step - loss: 0.0356 - accuracy: 0.9865\n",
      "Epoch 4/10\n",
      "313/313 [==============================] - 2s 5ms/step - loss: 0.0203 - accuracy: 0.9924\n",
      "Epoch 5/10\n",
      "313/313 [==============================] - 2s 5ms/step - loss: 0.0104 - accuracy: 0.9961\n",
      "Epoch 6/10\n",
      "313/313 [==============================] - 2s 5ms/step - loss: 0.0093 - accuracy: 0.9966\n",
      "Epoch 7/10\n",
      "313/313 [==============================] - 2s 5ms/step - loss: 0.0080 - accuracy: 0.9969\n",
      "Epoch 8/10\n",
      "313/313 [==============================] - 2s 5ms/step - loss: 0.0065 - accuracy: 0.9976\n",
      "Epoch 9/10\n",
      "313/313 [==============================] - 2s 5ms/step - loss: 0.0045 - accuracy: 0.9985\n",
      "Epoch 10/10\n",
      "313/313 [==============================] - 2s 5ms/step - loss: 0.0017 - accuracy: 0.9995\n",
      "313/313 [==============================] - 1s 3ms/step - loss: 0.8601 - accuracy: 0.9032\n",
      "Epoch 1/3\n",
      "157/157 [==============================] - 2s 9ms/step - loss: 0.2788 - accuracy: 0.8758\n",
      "Epoch 2/3\n",
      "157/157 [==============================] - 1s 8ms/step - loss: 0.0812 - accuracy: 0.9719\n",
      "Epoch 3/3\n",
      "157/157 [==============================] - 1s 8ms/step - loss: 0.0250 - accuracy: 0.9926\n",
      "157/157 [==============================] - 1s 5ms/step - loss: 0.3710 - accuracy: 0.9099\n",
      "Epoch 1/3\n",
      "157/157 [==============================] - 2s 9ms/step - loss: 0.2623 - accuracy: 0.8917\n",
      "Epoch 2/3\n",
      "157/157 [==============================] - 1s 8ms/step - loss: 0.0786 - accuracy: 0.9722\n",
      "Epoch 3/3\n",
      "157/157 [==============================] - 1s 8ms/step - loss: 0.0304 - accuracy: 0.9895\n",
      "157/157 [==============================] - 1s 5ms/step - loss: 0.3434 - accuracy: 0.9085\n",
      "Epoch 1/3\n",
      "313/313 [==============================] - 2s 5ms/step - loss: 0.2562 - accuracy: 0.8941\n",
      "Epoch 2/3\n",
      "313/313 [==============================] - 2s 5ms/step - loss: 0.0739 - accuracy: 0.9737\n",
      "Epoch 3/3\n",
      "313/313 [==============================] - 2s 5ms/step - loss: 0.0278 - accuracy: 0.9896\n",
      "313/313 [==============================] - 1s 3ms/step - loss: 0.3736 - accuracy: 0.9060\n",
      "Epoch 1/3\n",
      "313/313 [==============================] - 2s 5ms/step - loss: 0.2538 - accuracy: 0.8945\n",
      "Epoch 2/3\n",
      "313/313 [==============================] - 2s 5ms/step - loss: 0.0747 - accuracy: 0.9722\n",
      "Epoch 3/3\n",
      "313/313 [==============================] - 2s 5ms/step - loss: 0.0349 - accuracy: 0.9860\n",
      "313/313 [==============================] - 1s 3ms/step - loss: 0.3667 - accuracy: 0.9064\n",
      "Epoch 1/10\n",
      "313/313 [==============================] - 2s 5ms/step - loss: 0.2635 - accuracy: 0.8902\n",
      "Epoch 2/10\n",
      "313/313 [==============================] - 2s 5ms/step - loss: 0.0852 - accuracy: 0.9675\n",
      "Epoch 3/10\n",
      "313/313 [==============================] - 2s 5ms/step - loss: 0.0453 - accuracy: 0.9818\n",
      "Epoch 4/10\n",
      "313/313 [==============================] - 2s 6ms/step - loss: 0.0297 - accuracy: 0.9888\n",
      "Epoch 5/10\n",
      "313/313 [==============================] - 2s 5ms/step - loss: 0.0260 - accuracy: 0.9887\n",
      "Epoch 6/10\n",
      "313/313 [==============================] - 2s 5ms/step - loss: 0.0211 - accuracy: 0.9905\n",
      "Epoch 7/10\n",
      "313/313 [==============================] - 2s 5ms/step - loss: 0.0146 - accuracy: 0.9937\n",
      "Epoch 8/10\n",
      "313/313 [==============================] - 2s 5ms/step - loss: 0.0233 - accuracy: 0.9911\n",
      "Epoch 9/10\n",
      "313/313 [==============================] - 2s 5ms/step - loss: 0.0152 - accuracy: 0.9931\n",
      "Epoch 10/10\n",
      "313/313 [==============================] - 2s 5ms/step - loss: 0.0110 - accuracy: 0.9944\n",
      "313/313 [==============================] - 1s 3ms/step - loss: 0.8404 - accuracy: 0.9034\n",
      "Epoch 1/10\n",
      "313/313 [==============================] - 2s 6ms/step - loss: 0.2586 - accuracy: 0.8936\n",
      "Epoch 2/10\n",
      "313/313 [==============================] - 2s 5ms/step - loss: 0.0955 - accuracy: 0.9632\n",
      "Epoch 3/10\n",
      "313/313 [==============================] - 2s 5ms/step - loss: 0.0523 - accuracy: 0.9809\n",
      "Epoch 4/10\n",
      "313/313 [==============================] - 2s 6ms/step - loss: 0.0353 - accuracy: 0.9887\n",
      "Epoch 5/10\n",
      "313/313 [==============================] - 2s 5ms/step - loss: 0.0231 - accuracy: 0.9919\n",
      "Epoch 6/10\n",
      "313/313 [==============================] - 2s 5ms/step - loss: 0.0293 - accuracy: 0.9930\n",
      "Epoch 7/10\n",
      "313/313 [==============================] - 2s 5ms/step - loss: 0.0248 - accuracy: 0.9935\n",
      "Epoch 8/10\n",
      "313/313 [==============================] - 2s 5ms/step - loss: 0.0252 - accuracy: 0.9923\n",
      "Epoch 9/10\n",
      "313/313 [==============================] - 2s 5ms/step - loss: 0.0204 - accuracy: 0.9956\n",
      "Epoch 10/10\n",
      "313/313 [==============================] - 2s 5ms/step - loss: 0.0217 - accuracy: 0.9930\n",
      "313/313 [==============================] - 1s 4ms/step - loss: 1.0596 - accuracy: 0.9001\n",
      "Epoch 1/5\n",
      "313/313 [==============================] - 2s 6ms/step - loss: 0.2521 - accuracy: 0.8974\n",
      "Epoch 2/5\n",
      "313/313 [==============================] - 2s 5ms/step - loss: 0.0738 - accuracy: 0.9733\n",
      "Epoch 3/5\n",
      "313/313 [==============================] - 2s 5ms/step - loss: 0.0273 - accuracy: 0.9890\n",
      "Epoch 4/5\n",
      "313/313 [==============================] - 2s 5ms/step - loss: 0.0171 - accuracy: 0.9940\n",
      "Epoch 5/5\n",
      "313/313 [==============================] - 2s 5ms/step - loss: 0.0129 - accuracy: 0.9954\n",
      "313/313 [==============================] - 1s 3ms/step - loss: 0.5331 - accuracy: 0.9005\n",
      "Epoch 1/5\n",
      "313/313 [==============================] - 3s 6ms/step - loss: 0.2622 - accuracy: 0.8923\n",
      "Epoch 2/5\n",
      "313/313 [==============================] - 2s 5ms/step - loss: 0.0813 - accuracy: 0.9724\n",
      "Epoch 3/5\n",
      "313/313 [==============================] - 2s 5ms/step - loss: 0.0338 - accuracy: 0.9879\n",
      "Epoch 4/5\n",
      "313/313 [==============================] - 2s 5ms/step - loss: 0.0190 - accuracy: 0.9926\n",
      "Epoch 5/5\n",
      "313/313 [==============================] - 2s 5ms/step - loss: 0.0117 - accuracy: 0.9952\n",
      "313/313 [==============================] - 1s 3ms/step - loss: 0.5792 - accuracy: 0.9020\n",
      "Epoch 1/5\n",
      "157/157 [==============================] - 3s 17ms/step - loss: 0.3734 - accuracy: 0.8740\n",
      "Epoch 2/5\n",
      "157/157 [==============================] - 3s 17ms/step - loss: 0.1504 - accuracy: 0.9453\n",
      "Epoch 3/5\n",
      "157/157 [==============================] - 3s 19ms/step - loss: 0.1002 - accuracy: 0.9658\n",
      "Epoch 4/5\n",
      "157/157 [==============================] - 3s 17ms/step - loss: 0.0683 - accuracy: 0.9799\n",
      "Epoch 5/5\n",
      "157/157 [==============================] - 3s 17ms/step - loss: 0.0442 - accuracy: 0.9893\n"
     ]
    },
    {
     "data": {
      "text/html": [
       "<style>#sk-container-id-1 {color: black;background-color: white;}#sk-container-id-1 pre{padding: 0;}#sk-container-id-1 div.sk-toggleable {background-color: white;}#sk-container-id-1 label.sk-toggleable__label {cursor: pointer;display: block;width: 100%;margin-bottom: 0;padding: 0.3em;box-sizing: border-box;text-align: center;}#sk-container-id-1 label.sk-toggleable__label-arrow:before {content: \"▸\";float: left;margin-right: 0.25em;color: #696969;}#sk-container-id-1 label.sk-toggleable__label-arrow:hover:before {color: black;}#sk-container-id-1 div.sk-estimator:hover label.sk-toggleable__label-arrow:before {color: black;}#sk-container-id-1 div.sk-toggleable__content {max-height: 0;max-width: 0;overflow: hidden;text-align: left;background-color: #f0f8ff;}#sk-container-id-1 div.sk-toggleable__content pre {margin: 0.2em;color: black;border-radius: 0.25em;background-color: #f0f8ff;}#sk-container-id-1 input.sk-toggleable__control:checked~div.sk-toggleable__content {max-height: 200px;max-width: 100%;overflow: auto;}#sk-container-id-1 input.sk-toggleable__control:checked~label.sk-toggleable__label-arrow:before {content: \"▾\";}#sk-container-id-1 div.sk-estimator input.sk-toggleable__control:checked~label.sk-toggleable__label {background-color: #d4ebff;}#sk-container-id-1 div.sk-label input.sk-toggleable__control:checked~label.sk-toggleable__label {background-color: #d4ebff;}#sk-container-id-1 input.sk-hidden--visually {border: 0;clip: rect(1px 1px 1px 1px);clip: rect(1px, 1px, 1px, 1px);height: 1px;margin: -1px;overflow: hidden;padding: 0;position: absolute;width: 1px;}#sk-container-id-1 div.sk-estimator {font-family: monospace;background-color: #f0f8ff;border: 1px dotted black;border-radius: 0.25em;box-sizing: border-box;margin-bottom: 0.5em;}#sk-container-id-1 div.sk-estimator:hover {background-color: #d4ebff;}#sk-container-id-1 div.sk-parallel-item::after {content: \"\";width: 100%;border-bottom: 1px solid gray;flex-grow: 1;}#sk-container-id-1 div.sk-label:hover label.sk-toggleable__label {background-color: #d4ebff;}#sk-container-id-1 div.sk-serial::before {content: \"\";position: absolute;border-left: 1px solid gray;box-sizing: border-box;top: 0;bottom: 0;left: 50%;z-index: 0;}#sk-container-id-1 div.sk-serial {display: flex;flex-direction: column;align-items: center;background-color: white;padding-right: 0.2em;padding-left: 0.2em;position: relative;}#sk-container-id-1 div.sk-item {position: relative;z-index: 1;}#sk-container-id-1 div.sk-parallel {display: flex;align-items: stretch;justify-content: center;background-color: white;position: relative;}#sk-container-id-1 div.sk-item::before, #sk-container-id-1 div.sk-parallel-item::before {content: \"\";position: absolute;border-left: 1px solid gray;box-sizing: border-box;top: 0;bottom: 0;left: 50%;z-index: -1;}#sk-container-id-1 div.sk-parallel-item {display: flex;flex-direction: column;z-index: 1;position: relative;background-color: white;}#sk-container-id-1 div.sk-parallel-item:first-child::after {align-self: flex-end;width: 50%;}#sk-container-id-1 div.sk-parallel-item:last-child::after {align-self: flex-start;width: 50%;}#sk-container-id-1 div.sk-parallel-item:only-child::after {width: 0;}#sk-container-id-1 div.sk-dashed-wrapped {border: 1px dashed gray;margin: 0 0.4em 0.5em 0.4em;box-sizing: border-box;padding-bottom: 0.4em;background-color: white;}#sk-container-id-1 div.sk-label label {font-family: monospace;font-weight: bold;display: inline-block;line-height: 1.2em;}#sk-container-id-1 div.sk-label-container {text-align: center;}#sk-container-id-1 div.sk-container {/* jupyter's `normalize.less` sets `[hidden] { display: none; }` but bootstrap.min.css set `[hidden] { display: none !important; }` so we also need the `!important` here to be able to override the default hidden behavior on the sphinx rendered scikit-learn.org. See: https://github.com/scikit-learn/scikit-learn/issues/21755 */display: inline-block !important;position: relative;}#sk-container-id-1 div.sk-text-repr-fallback {display: none;}</style><div id=\"sk-container-id-1\" class=\"sk-top-container\"><div class=\"sk-text-repr-fallback\"><pre>RandomizedSearchCV(cv=KFold(n_splits=2, random_state=None, shuffle=False),\n",
       "                   estimator=&lt;keras.wrappers.scikit_learn.KerasClassifier object at 0x7feb4a13be20&gt;,\n",
       "                   param_distributions={&#x27;activation&#x27;: [&#x27;relu&#x27;],\n",
       "                                        &#x27;batch_size&#x27;: [64, 128, 256],\n",
       "                                        &#x27;epochs&#x27;: [3, 5, 10],\n",
       "                                        &#x27;learning_rate&#x27;: [0.1, 0.01, 0.001]})</pre><b>In a Jupyter environment, please rerun this cell to show the HTML representation or trust the notebook. <br />On GitHub, the HTML representation is unable to render, please try loading this page with nbviewer.org.</b></div><div class=\"sk-container\" hidden><div class=\"sk-item sk-dashed-wrapped\"><div class=\"sk-label-container\"><div class=\"sk-label sk-toggleable\"><input class=\"sk-toggleable__control sk-hidden--visually\" id=\"sk-estimator-id-1\" type=\"checkbox\" ><label for=\"sk-estimator-id-1\" class=\"sk-toggleable__label sk-toggleable__label-arrow\">RandomizedSearchCV</label><div class=\"sk-toggleable__content\"><pre>RandomizedSearchCV(cv=KFold(n_splits=2, random_state=None, shuffle=False),\n",
       "                   estimator=&lt;keras.wrappers.scikit_learn.KerasClassifier object at 0x7feb4a13be20&gt;,\n",
       "                   param_distributions={&#x27;activation&#x27;: [&#x27;relu&#x27;],\n",
       "                                        &#x27;batch_size&#x27;: [64, 128, 256],\n",
       "                                        &#x27;epochs&#x27;: [3, 5, 10],\n",
       "                                        &#x27;learning_rate&#x27;: [0.1, 0.01, 0.001]})</pre></div></div></div><div class=\"sk-parallel\"><div class=\"sk-parallel-item\"><div class=\"sk-item\"><div class=\"sk-label-container\"><div class=\"sk-label sk-toggleable\"><input class=\"sk-toggleable__control sk-hidden--visually\" id=\"sk-estimator-id-2\" type=\"checkbox\" ><label for=\"sk-estimator-id-2\" class=\"sk-toggleable__label sk-toggleable__label-arrow\">estimator: KerasClassifier</label><div class=\"sk-toggleable__content\"><pre>&lt;keras.wrappers.scikit_learn.KerasClassifier object at 0x7feb4a13be20&gt;</pre></div></div></div><div class=\"sk-serial\"><div class=\"sk-item\"><div class=\"sk-estimator sk-toggleable\"><input class=\"sk-toggleable__control sk-hidden--visually\" id=\"sk-estimator-id-3\" type=\"checkbox\" ><label for=\"sk-estimator-id-3\" class=\"sk-toggleable__label sk-toggleable__label-arrow\">KerasClassifier</label><div class=\"sk-toggleable__content\"><pre>&lt;keras.wrappers.scikit_learn.KerasClassifier object at 0x7feb4a13be20&gt;</pre></div></div></div></div></div></div></div></div></div></div>"
      ],
      "text/plain": [
       "RandomizedSearchCV(cv=KFold(n_splits=2, random_state=None, shuffle=False),\n",
       "                   estimator=<keras.wrappers.scikit_learn.KerasClassifier object at 0x7feb4a13be20>,\n",
       "                   param_distributions={'activation': ['relu'],\n",
       "                                        'batch_size': [64, 128, 256],\n",
       "                                        'epochs': [3, 5, 10],\n",
       "                                        'learning_rate': [0.1, 0.01, 0.001]})"
      ]
     },
     "execution_count": 22,
     "metadata": {},
     "output_type": "execute_result"
    }
   ],
   "source": [
    "from sklearn.model_selection import RandomizedSearchCV\n",
    "from keras.wrappers.scikit_learn import KerasClassifier\n",
    "from sklearn.model_selection import KFold\n",
    "\n",
    "\n",
    "# Create a KerasClassifier\n",
    "model = KerasClassifier(build_fn = create_model)\n",
    "\n",
    "# Define the parameters to try out\n",
    "params = {'activation': ['relu'],'epochs': [3, 5, 10], \n",
    "          'learning_rate': [0.1, 0.01, 0.001], 'batch_size': [64, 128, 256]}\n",
    "\n",
    "# Create a randomize search cv object passing in the parameters to try\n",
    "random_search = RandomizedSearchCV(model, param_distributions = params, cv = KFold(2))\n",
    "\n",
    "# Fit the random search cv object to the training data\n",
    "random_search.fit(X_train, y_train, verbose = True)\n"
   ]
  },
  {
   "cell_type": "code",
   "execution_count": 24,
   "metadata": {},
   "outputs": [
    {
     "name": "stdout",
     "output_type": "stream",
     "text": [
      "{'learning_rate': 0.001, 'epochs': 5, 'batch_size': 256, 'activation': 'relu'}\n"
     ]
    }
   ],
   "source": [
    "# Get the best parameters\n",
    "best_params = random_search.best_params_\n",
    "print(best_params)"
   ]
  },
  {
   "cell_type": "code",
   "execution_count": 25,
   "metadata": {},
   "outputs": [
    {
     "name": "stdout",
     "output_type": "stream",
     "text": [
      "313/313 [==============================] - 1s 2ms/step\n",
      "1250/1250 [==============================] - 2s 2ms/step\n",
      "Training set Accuracy:  99.6275\n",
      "Test set Accuracy:  92.02\n"
     ]
    }
   ],
   "source": [
    "best_random = random_search.best_estimator_ \n",
    "pred = best_random.predict(X_test)\n",
    "pred_train = best_random.predict(X_train)\n",
    "print(\"Training set Accuracy: \", accuracy_score(pred_train, y_train)*100)\n",
    "print(\"Test set Accuracy: \", accuracy_score(pred, y_test)*100)"
   ]
  },
  {
   "cell_type": "code",
   "execution_count": 26,
   "metadata": {},
   "outputs": [],
   "source": [
    "def create_model(drop_out=0.2, units=64, learning_rate = 0.001):\n",
    "    model = Sequential()\n",
    "    model.add(Dropout(drop_out, input_shape=input_shape))\n",
    "    model.add(Dense(units, activation = 'relu'))\n",
    "    model.add(Dropout(drop_out))\n",
    "    model.add(Dense(1, activation = 'sigmoid'))\n",
    "    model.compile(optimizer=tf.keras.optimizers.Adam(lr=learning_rate), loss='binary_crossentropy', metrics=['accuracy'])\n",
    "    return model"
   ]
  },
  {
   "cell_type": "code",
   "execution_count": 28,
   "metadata": {},
   "outputs": [],
   "source": [
    "model_params = KerasClassifier(build_fn = create_model)\n",
    "\n",
    "params = {'drop_out': [0.2, 0.15, 0.1, 0.01], 'units': [60, 70, 90],\n",
    "          'learning_rate': [0.001], 'batch_size': [128], 'epochs' : [5]}\n",
    "\n",
    "# Create a randomize search cv object passing in the parameters to try\n",
    "random_params = RandomizedSearchCV(model_params, param_distributions = params, cv = KFold(2))"
   ]
  },
  {
   "cell_type": "code",
   "execution_count": 29,
   "metadata": {
    "scrolled": true
   },
   "outputs": [
    {
     "name": "stdout",
     "output_type": "stream",
     "text": [
      "Epoch 1/5\n",
      "157/157 [==============================] - 2s 12ms/step - loss: 0.4978 - accuracy: 0.8390\n",
      "Epoch 2/5\n",
      "157/157 [==============================] - 2s 11ms/step - loss: 0.2522 - accuracy: 0.9189\n",
      "Epoch 3/5\n",
      "157/157 [==============================] - 2s 11ms/step - loss: 0.1766 - accuracy: 0.9426\n",
      "Epoch 4/5\n",
      "157/157 [==============================] - 2s 11ms/step - loss: 0.1377 - accuracy: 0.9559\n",
      "Epoch 5/5\n",
      "157/157 [==============================] - 2s 11ms/step - loss: 0.1096 - accuracy: 0.9684\n",
      "157/157 [==============================] - 1s 5ms/step - loss: 0.1918 - accuracy: 0.9233\n",
      "Epoch 1/5\n",
      "157/157 [==============================] - 2s 12ms/step - loss: 0.4999 - accuracy: 0.8503\n",
      "Epoch 2/5\n",
      "157/157 [==============================] - 2s 12ms/step - loss: 0.2533 - accuracy: 0.9168\n",
      "Epoch 3/5\n",
      "157/157 [==============================] - 2s 12ms/step - loss: 0.1809 - accuracy: 0.9406\n",
      "Epoch 4/5\n",
      "157/157 [==============================] - 2s 12ms/step - loss: 0.1419 - accuracy: 0.9542\n",
      "Epoch 5/5\n",
      "157/157 [==============================] - 2s 12ms/step - loss: 0.1139 - accuracy: 0.9657\n",
      "157/157 [==============================] - 1s 5ms/step - loss: 0.1879 - accuracy: 0.9247\n",
      "Epoch 1/5\n",
      "157/157 [==============================] - 3s 17ms/step - loss: 0.4804 - accuracy: 0.8595\n",
      "Epoch 2/5\n",
      "157/157 [==============================] - 2s 15ms/step - loss: 0.2348 - accuracy: 0.9225\n",
      "Epoch 3/5\n",
      "157/157 [==============================] - 2s 15ms/step - loss: 0.1650 - accuracy: 0.9461\n",
      "Epoch 4/5\n",
      "157/157 [==============================] - 2s 15ms/step - loss: 0.1245 - accuracy: 0.9622\n",
      "Epoch 5/5\n",
      "157/157 [==============================] - 2s 15ms/step - loss: 0.0976 - accuracy: 0.9708\n",
      "157/157 [==============================] - 1s 8ms/step - loss: 0.1912 - accuracy: 0.9241\n",
      "Epoch 1/5\n",
      "157/157 [==============================] - 3s 17ms/step - loss: 0.4801 - accuracy: 0.8502\n",
      "Epoch 2/5\n",
      "157/157 [==============================] - 2s 15ms/step - loss: 0.2366 - accuracy: 0.9218\n",
      "Epoch 3/5\n",
      "157/157 [==============================] - 2s 15ms/step - loss: 0.1673 - accuracy: 0.9449\n",
      "Epoch 4/5\n",
      "157/157 [==============================] - 2s 15ms/step - loss: 0.1284 - accuracy: 0.9596\n",
      "Epoch 5/5\n",
      "157/157 [==============================] - 2s 15ms/step - loss: 0.1024 - accuracy: 0.9686\n",
      "157/157 [==============================] - 1s 8ms/step - loss: 0.1871 - accuracy: 0.9246\n",
      "Epoch 1/5\n",
      "157/157 [==============================] - 3s 14ms/step - loss: 0.4974 - accuracy: 0.8509\n",
      "Epoch 2/5\n",
      "157/157 [==============================] - 2s 12ms/step - loss: 0.2434 - accuracy: 0.9219\n",
      "Epoch 3/5\n",
      "157/157 [==============================] - 2s 12ms/step - loss: 0.1671 - accuracy: 0.9477\n",
      "Epoch 4/5\n",
      "157/157 [==============================] - 2s 13ms/step - loss: 0.1256 - accuracy: 0.9617\n",
      "Epoch 5/5\n",
      "157/157 [==============================] - 2s 13ms/step - loss: 0.0965 - accuracy: 0.9743\n",
      "157/157 [==============================] - 1s 6ms/step - loss: 0.1927 - accuracy: 0.9243\n",
      "Epoch 1/5\n",
      "157/157 [==============================] - 3s 14ms/step - loss: 0.4923 - accuracy: 0.8607\n",
      "Epoch 2/5\n",
      "157/157 [==============================] - 2s 14ms/step - loss: 0.2439 - accuracy: 0.9217\n",
      "Epoch 3/5\n",
      "157/157 [==============================] - 2s 12ms/step - loss: 0.1690 - accuracy: 0.9455\n",
      "Epoch 4/5\n",
      "157/157 [==============================] - 2s 12ms/step - loss: 0.1288 - accuracy: 0.9596\n",
      "Epoch 5/5\n",
      "157/157 [==============================] - 2s 13ms/step - loss: 0.1004 - accuracy: 0.9727\n",
      "157/157 [==============================] - 1s 6ms/step - loss: 0.1881 - accuracy: 0.9237\n",
      "Epoch 1/5\n",
      "157/157 [==============================] - 2s 13ms/step - loss: 0.5177 - accuracy: 0.8447\n",
      "Epoch 2/5\n",
      "157/157 [==============================] - 2s 13ms/step - loss: 0.2708 - accuracy: 0.9115\n",
      "Epoch 3/5\n",
      "157/157 [==============================] - 2s 13ms/step - loss: 0.1947 - accuracy: 0.9344\n",
      "Epoch 4/5\n",
      "157/157 [==============================] - 2s 12ms/step - loss: 0.1572 - accuracy: 0.9450\n",
      "Epoch 5/5\n",
      "157/157 [==============================] - 2s 12ms/step - loss: 0.1283 - accuracy: 0.9582\n",
      "157/157 [==============================] - 1s 5ms/step - loss: 0.1917 - accuracy: 0.9241\n",
      "Epoch 1/5\n",
      "157/157 [==============================] - 2s 13ms/step - loss: 0.5190 - accuracy: 0.8372\n",
      "Epoch 2/5\n",
      "157/157 [==============================] - 2s 12ms/step - loss: 0.2735 - accuracy: 0.9086\n",
      "Epoch 3/5\n",
      "157/157 [==============================] - 2s 13ms/step - loss: 0.1970 - accuracy: 0.9322\n",
      "Epoch 4/5\n",
      "157/157 [==============================] - 2s 13ms/step - loss: 0.1581 - accuracy: 0.9453\n",
      "Epoch 5/5\n",
      "157/157 [==============================] - 2s 12ms/step - loss: 0.1311 - accuracy: 0.9553\n",
      "157/157 [==============================] - 1s 6ms/step - loss: 0.1879 - accuracy: 0.9254\n",
      "Epoch 1/5\n",
      "157/157 [==============================] - 2s 12ms/step - loss: 0.5254 - accuracy: 0.8475\n",
      "Epoch 2/5\n",
      "157/157 [==============================] - 2s 11ms/step - loss: 0.2823 - accuracy: 0.9110\n",
      "Epoch 3/5\n",
      "157/157 [==============================] - 2s 11ms/step - loss: 0.2028 - accuracy: 0.9295\n",
      "Epoch 4/5\n",
      "157/157 [==============================] - 2s 11ms/step - loss: 0.1635 - accuracy: 0.9444\n",
      "Epoch 5/5\n",
      "157/157 [==============================] - 2s 13ms/step - loss: 0.1357 - accuracy: 0.9543\n",
      "157/157 [==============================] - 1s 5ms/step - loss: 0.1936 - accuracy: 0.9241\n",
      "Epoch 1/5\n",
      "157/157 [==============================] - 2s 12ms/step - loss: 0.5264 - accuracy: 0.8314\n",
      "Epoch 2/5\n",
      "157/157 [==============================] - 2s 11ms/step - loss: 0.2836 - accuracy: 0.9072\n",
      "Epoch 3/5\n",
      "157/157 [==============================] - 2s 11ms/step - loss: 0.2058 - accuracy: 0.9288\n",
      "Epoch 4/5\n",
      "157/157 [==============================] - 2s 11ms/step - loss: 0.1650 - accuracy: 0.9447\n",
      "Epoch 5/5\n",
      "157/157 [==============================] - 2s 11ms/step - loss: 0.1385 - accuracy: 0.9521\n",
      "157/157 [==============================] - 1s 5ms/step - loss: 0.1893 - accuracy: 0.9239\n",
      "Epoch 1/5\n",
      "157/157 [==============================] - 3s 16ms/step - loss: 0.4848 - accuracy: 0.8536\n",
      "Epoch 2/5\n",
      "157/157 [==============================] - 2s 16ms/step - loss: 0.2406 - accuracy: 0.9200\n",
      "Epoch 3/5\n",
      "157/157 [==============================] - 2s 16ms/step - loss: 0.1711 - accuracy: 0.9421\n",
      "Epoch 4/5\n",
      "157/157 [==============================] - 2s 16ms/step - loss: 0.1338 - accuracy: 0.9568\n",
      "Epoch 5/5\n",
      "157/157 [==============================] - 2s 16ms/step - loss: 0.1070 - accuracy: 0.9675\n",
      "157/157 [==============================] - 1s 8ms/step - loss: 0.1912 - accuracy: 0.9240\n",
      "Epoch 1/5\n",
      "157/157 [==============================] - 3s 16ms/step - loss: 0.4934 - accuracy: 0.8347\n",
      "Epoch 2/5\n",
      "157/157 [==============================] - 2s 16ms/step - loss: 0.2487 - accuracy: 0.9160\n",
      "Epoch 3/5\n",
      "157/157 [==============================] - 2s 16ms/step - loss: 0.1761 - accuracy: 0.9413\n",
      "Epoch 4/5\n",
      "157/157 [==============================] - 3s 16ms/step - loss: 0.1394 - accuracy: 0.9543\n",
      "Epoch 5/5\n",
      "157/157 [==============================] - 2s 16ms/step - loss: 0.1121 - accuracy: 0.9643\n",
      "157/157 [==============================] - 2s 9ms/step - loss: 0.1873 - accuracy: 0.9249\n",
      "Epoch 1/5\n",
      "157/157 [==============================] - 3s 16ms/step - loss: 0.4921 - accuracy: 0.8546\n",
      "Epoch 2/5\n",
      "157/157 [==============================] - 2s 16ms/step - loss: 0.2492 - accuracy: 0.9162\n",
      "Epoch 3/5\n",
      "157/157 [==============================] - 2s 15ms/step - loss: 0.1790 - accuracy: 0.9392\n",
      "Epoch 4/5\n",
      "157/157 [==============================] - 2s 16ms/step - loss: 0.1417 - accuracy: 0.9512\n",
      "Epoch 5/5\n",
      "157/157 [==============================] - 3s 16ms/step - loss: 0.1174 - accuracy: 0.9620\n",
      "157/157 [==============================] - 1s 8ms/step - loss: 0.1916 - accuracy: 0.9248\n",
      "Epoch 1/5\n",
      "157/157 [==============================] - 3s 16ms/step - loss: 0.5025 - accuracy: 0.8549\n",
      "Epoch 2/5\n",
      "157/157 [==============================] - 2s 15ms/step - loss: 0.2568 - accuracy: 0.9128\n",
      "Epoch 3/5\n",
      "157/157 [==============================] - 2s 15ms/step - loss: 0.1849 - accuracy: 0.9354\n",
      "Epoch 4/5\n",
      "157/157 [==============================] - 2s 15ms/step - loss: 0.1473 - accuracy: 0.9509\n",
      "Epoch 5/5\n",
      "157/157 [==============================] - 3s 17ms/step - loss: 0.1221 - accuracy: 0.9589\n"
     ]
    },
    {
     "name": "stdout",
     "output_type": "stream",
     "text": [
      "157/157 [==============================] - 1s 8ms/step - loss: 0.1862 - accuracy: 0.9251\n",
      "Epoch 1/5\n",
      "157/157 [==============================] - 3s 16ms/step - loss: 0.4678 - accuracy: 0.8658\n",
      "Epoch 2/5\n",
      "157/157 [==============================] - 2s 15ms/step - loss: 0.2238 - accuracy: 0.9258\n",
      "Epoch 3/5\n",
      "157/157 [==============================] - 2s 15ms/step - loss: 0.1526 - accuracy: 0.9513\n",
      "Epoch 4/5\n",
      "157/157 [==============================] - 2s 15ms/step - loss: 0.1122 - accuracy: 0.9671\n",
      "Epoch 5/5\n",
      "157/157 [==============================] - 3s 17ms/step - loss: 0.0841 - accuracy: 0.9770\n",
      "157/157 [==============================] - 1s 8ms/step - loss: 0.1945 - accuracy: 0.9233\n",
      "Epoch 1/5\n",
      "157/157 [==============================] - 3s 16ms/step - loss: 0.4728 - accuracy: 0.8665\n",
      "Epoch 2/5\n",
      "157/157 [==============================] - 2s 16ms/step - loss: 0.2262 - accuracy: 0.9262\n",
      "Epoch 3/5\n",
      "157/157 [==============================] - 2s 16ms/step - loss: 0.1566 - accuracy: 0.9499\n",
      "Epoch 4/5\n",
      "157/157 [==============================] - 2s 16ms/step - loss: 0.1163 - accuracy: 0.9654\n",
      "Epoch 5/5\n",
      "157/157 [==============================] - 3s 17ms/step - loss: 0.0890 - accuracy: 0.9760\n",
      "157/157 [==============================] - 1s 8ms/step - loss: 0.1887 - accuracy: 0.9240\n",
      "Epoch 1/5\n",
      "157/157 [==============================] - 2s 13ms/step - loss: 0.5022 - accuracy: 0.8461\n",
      "Epoch 2/5\n",
      "157/157 [==============================] - 2s 12ms/step - loss: 0.2588 - accuracy: 0.9143\n",
      "Epoch 3/5\n",
      "157/157 [==============================] - 2s 12ms/step - loss: 0.1837 - accuracy: 0.9388\n",
      "Epoch 4/5\n",
      "157/157 [==============================] - 2s 12ms/step - loss: 0.1453 - accuracy: 0.9513\n",
      "Epoch 5/5\n",
      "157/157 [==============================] - 2s 13ms/step - loss: 0.1174 - accuracy: 0.9632\n",
      "157/157 [==============================] - 1s 6ms/step - loss: 0.1921 - accuracy: 0.9230\n",
      "Epoch 1/5\n",
      "157/157 [==============================] - 2s 13ms/step - loss: 0.5017 - accuracy: 0.8482\n",
      "Epoch 2/5\n",
      "157/157 [==============================] - 2s 12ms/step - loss: 0.2605 - accuracy: 0.9161\n",
      "Epoch 3/5\n",
      "157/157 [==============================] - 2s 12ms/step - loss: 0.1854 - accuracy: 0.9381\n",
      "Epoch 4/5\n",
      "157/157 [==============================] - 2s 12ms/step - loss: 0.1489 - accuracy: 0.9503\n",
      "Epoch 5/5\n",
      "157/157 [==============================] - 2s 12ms/step - loss: 0.1214 - accuracy: 0.9617\n",
      "157/157 [==============================] - 1s 6ms/step - loss: 0.1883 - accuracy: 0.9244\n",
      "Epoch 1/5\n",
      "157/157 [==============================] - 2s 12ms/step - loss: 0.5163 - accuracy: 0.8472\n",
      "Epoch 2/5\n",
      "157/157 [==============================] - 2s 11ms/step - loss: 0.2732 - accuracy: 0.9126\n",
      "Epoch 3/5\n",
      "157/157 [==============================] - 2s 11ms/step - loss: 0.1932 - accuracy: 0.9365\n",
      "Epoch 4/5\n",
      "157/157 [==============================] - 2s 11ms/step - loss: 0.1532 - accuracy: 0.9498\n",
      "Epoch 5/5\n",
      "157/157 [==============================] - 2s 11ms/step - loss: 0.1258 - accuracy: 0.9601\n",
      "157/157 [==============================] - 1s 5ms/step - loss: 0.1927 - accuracy: 0.9230\n",
      "Epoch 1/5\n",
      "157/157 [==============================] - 2s 13ms/step - loss: 0.5203 - accuracy: 0.8418\n",
      "Epoch 2/5\n",
      "157/157 [==============================] - 2s 12ms/step - loss: 0.2770 - accuracy: 0.9104\n",
      "Epoch 3/5\n",
      "157/157 [==============================] - 2s 11ms/step - loss: 0.1985 - accuracy: 0.9341\n",
      "Epoch 4/5\n",
      "157/157 [==============================] - 2s 11ms/step - loss: 0.1575 - accuracy: 0.9480\n",
      "Epoch 5/5\n",
      "157/157 [==============================] - 2s 11ms/step - loss: 0.1316 - accuracy: 0.9570\n",
      "157/157 [==============================] - 1s 5ms/step - loss: 0.1912 - accuracy: 0.9231\n",
      "Epoch 1/5\n",
      "313/313 [==============================] - 6s 16ms/step - loss: 0.3873 - accuracy: 0.8805\n",
      "Epoch 2/5\n",
      "313/313 [==============================] - 5s 17ms/step - loss: 0.1957 - accuracy: 0.9269\n",
      "Epoch 3/5\n",
      "313/313 [==============================] - 5s 17ms/step - loss: 0.1522 - accuracy: 0.9439\n",
      "Epoch 4/5\n",
      "313/313 [==============================] - 5s 17ms/step - loss: 0.1266 - accuracy: 0.9538\n",
      "Epoch 5/5\n",
      "313/313 [==============================] - 5s 17ms/step - loss: 0.1105 - accuracy: 0.9598\n"
     ]
    },
    {
     "data": {
      "text/html": [
       "<style>#sk-container-id-2 {color: black;background-color: white;}#sk-container-id-2 pre{padding: 0;}#sk-container-id-2 div.sk-toggleable {background-color: white;}#sk-container-id-2 label.sk-toggleable__label {cursor: pointer;display: block;width: 100%;margin-bottom: 0;padding: 0.3em;box-sizing: border-box;text-align: center;}#sk-container-id-2 label.sk-toggleable__label-arrow:before {content: \"▸\";float: left;margin-right: 0.25em;color: #696969;}#sk-container-id-2 label.sk-toggleable__label-arrow:hover:before {color: black;}#sk-container-id-2 div.sk-estimator:hover label.sk-toggleable__label-arrow:before {color: black;}#sk-container-id-2 div.sk-toggleable__content {max-height: 0;max-width: 0;overflow: hidden;text-align: left;background-color: #f0f8ff;}#sk-container-id-2 div.sk-toggleable__content pre {margin: 0.2em;color: black;border-radius: 0.25em;background-color: #f0f8ff;}#sk-container-id-2 input.sk-toggleable__control:checked~div.sk-toggleable__content {max-height: 200px;max-width: 100%;overflow: auto;}#sk-container-id-2 input.sk-toggleable__control:checked~label.sk-toggleable__label-arrow:before {content: \"▾\";}#sk-container-id-2 div.sk-estimator input.sk-toggleable__control:checked~label.sk-toggleable__label {background-color: #d4ebff;}#sk-container-id-2 div.sk-label input.sk-toggleable__control:checked~label.sk-toggleable__label {background-color: #d4ebff;}#sk-container-id-2 input.sk-hidden--visually {border: 0;clip: rect(1px 1px 1px 1px);clip: rect(1px, 1px, 1px, 1px);height: 1px;margin: -1px;overflow: hidden;padding: 0;position: absolute;width: 1px;}#sk-container-id-2 div.sk-estimator {font-family: monospace;background-color: #f0f8ff;border: 1px dotted black;border-radius: 0.25em;box-sizing: border-box;margin-bottom: 0.5em;}#sk-container-id-2 div.sk-estimator:hover {background-color: #d4ebff;}#sk-container-id-2 div.sk-parallel-item::after {content: \"\";width: 100%;border-bottom: 1px solid gray;flex-grow: 1;}#sk-container-id-2 div.sk-label:hover label.sk-toggleable__label {background-color: #d4ebff;}#sk-container-id-2 div.sk-serial::before {content: \"\";position: absolute;border-left: 1px solid gray;box-sizing: border-box;top: 0;bottom: 0;left: 50%;z-index: 0;}#sk-container-id-2 div.sk-serial {display: flex;flex-direction: column;align-items: center;background-color: white;padding-right: 0.2em;padding-left: 0.2em;position: relative;}#sk-container-id-2 div.sk-item {position: relative;z-index: 1;}#sk-container-id-2 div.sk-parallel {display: flex;align-items: stretch;justify-content: center;background-color: white;position: relative;}#sk-container-id-2 div.sk-item::before, #sk-container-id-2 div.sk-parallel-item::before {content: \"\";position: absolute;border-left: 1px solid gray;box-sizing: border-box;top: 0;bottom: 0;left: 50%;z-index: -1;}#sk-container-id-2 div.sk-parallel-item {display: flex;flex-direction: column;z-index: 1;position: relative;background-color: white;}#sk-container-id-2 div.sk-parallel-item:first-child::after {align-self: flex-end;width: 50%;}#sk-container-id-2 div.sk-parallel-item:last-child::after {align-self: flex-start;width: 50%;}#sk-container-id-2 div.sk-parallel-item:only-child::after {width: 0;}#sk-container-id-2 div.sk-dashed-wrapped {border: 1px dashed gray;margin: 0 0.4em 0.5em 0.4em;box-sizing: border-box;padding-bottom: 0.4em;background-color: white;}#sk-container-id-2 div.sk-label label {font-family: monospace;font-weight: bold;display: inline-block;line-height: 1.2em;}#sk-container-id-2 div.sk-label-container {text-align: center;}#sk-container-id-2 div.sk-container {/* jupyter's `normalize.less` sets `[hidden] { display: none; }` but bootstrap.min.css set `[hidden] { display: none !important; }` so we also need the `!important` here to be able to override the default hidden behavior on the sphinx rendered scikit-learn.org. See: https://github.com/scikit-learn/scikit-learn/issues/21755 */display: inline-block !important;position: relative;}#sk-container-id-2 div.sk-text-repr-fallback {display: none;}</style><div id=\"sk-container-id-2\" class=\"sk-top-container\"><div class=\"sk-text-repr-fallback\"><pre>RandomizedSearchCV(cv=KFold(n_splits=2, random_state=None, shuffle=False),\n",
       "                   estimator=&lt;keras.wrappers.scikit_learn.KerasClassifier object at 0x7feb49bcdbd0&gt;,\n",
       "                   param_distributions={&#x27;batch_size&#x27;: [128],\n",
       "                                        &#x27;drop_out&#x27;: [0.2, 0.15, 0.1, 0.01],\n",
       "                                        &#x27;epochs&#x27;: [5], &#x27;learning_rate&#x27;: [0.001],\n",
       "                                        &#x27;units&#x27;: [60, 70, 90]})</pre><b>In a Jupyter environment, please rerun this cell to show the HTML representation or trust the notebook. <br />On GitHub, the HTML representation is unable to render, please try loading this page with nbviewer.org.</b></div><div class=\"sk-container\" hidden><div class=\"sk-item sk-dashed-wrapped\"><div class=\"sk-label-container\"><div class=\"sk-label sk-toggleable\"><input class=\"sk-toggleable__control sk-hidden--visually\" id=\"sk-estimator-id-4\" type=\"checkbox\" ><label for=\"sk-estimator-id-4\" class=\"sk-toggleable__label sk-toggleable__label-arrow\">RandomizedSearchCV</label><div class=\"sk-toggleable__content\"><pre>RandomizedSearchCV(cv=KFold(n_splits=2, random_state=None, shuffle=False),\n",
       "                   estimator=&lt;keras.wrappers.scikit_learn.KerasClassifier object at 0x7feb49bcdbd0&gt;,\n",
       "                   param_distributions={&#x27;batch_size&#x27;: [128],\n",
       "                                        &#x27;drop_out&#x27;: [0.2, 0.15, 0.1, 0.01],\n",
       "                                        &#x27;epochs&#x27;: [5], &#x27;learning_rate&#x27;: [0.001],\n",
       "                                        &#x27;units&#x27;: [60, 70, 90]})</pre></div></div></div><div class=\"sk-parallel\"><div class=\"sk-parallel-item\"><div class=\"sk-item\"><div class=\"sk-label-container\"><div class=\"sk-label sk-toggleable\"><input class=\"sk-toggleable__control sk-hidden--visually\" id=\"sk-estimator-id-5\" type=\"checkbox\" ><label for=\"sk-estimator-id-5\" class=\"sk-toggleable__label sk-toggleable__label-arrow\">estimator: KerasClassifier</label><div class=\"sk-toggleable__content\"><pre>&lt;keras.wrappers.scikit_learn.KerasClassifier object at 0x7feb49bcdbd0&gt;</pre></div></div></div><div class=\"sk-serial\"><div class=\"sk-item\"><div class=\"sk-estimator sk-toggleable\"><input class=\"sk-toggleable__control sk-hidden--visually\" id=\"sk-estimator-id-6\" type=\"checkbox\" ><label for=\"sk-estimator-id-6\" class=\"sk-toggleable__label sk-toggleable__label-arrow\">KerasClassifier</label><div class=\"sk-toggleable__content\"><pre>&lt;keras.wrappers.scikit_learn.KerasClassifier object at 0x7feb49bcdbd0&gt;</pre></div></div></div></div></div></div></div></div></div></div>"
      ],
      "text/plain": [
       "RandomizedSearchCV(cv=KFold(n_splits=2, random_state=None, shuffle=False),\n",
       "                   estimator=<keras.wrappers.scikit_learn.KerasClassifier object at 0x7feb49bcdbd0>,\n",
       "                   param_distributions={'batch_size': [128],\n",
       "                                        'drop_out': [0.2, 0.15, 0.1, 0.01],\n",
       "                                        'epochs': [5], 'learning_rate': [0.001],\n",
       "                                        'units': [60, 70, 90]})"
      ]
     },
     "execution_count": 29,
     "metadata": {},
     "output_type": "execute_result"
    }
   ],
   "source": [
    "random_params.fit(X_train, y_train, verbose = True)"
   ]
  },
  {
   "cell_type": "code",
   "execution_count": 30,
   "metadata": {
    "scrolled": true
   },
   "outputs": [
    {
     "data": {
      "text/plain": [
       "<keras.wrappers.scikit_learn.KerasClassifier at 0x7feb48bbafe0>"
      ]
     },
     "execution_count": 30,
     "metadata": {},
     "output_type": "execute_result"
    }
   ],
   "source": [
    "random_params.best_estimator_"
   ]
  },
  {
   "cell_type": "code",
   "execution_count": 31,
   "metadata": {},
   "outputs": [
    {
     "data": {
      "text/plain": [
       "{'units': 90,\n",
       " 'learning_rate': 0.001,\n",
       " 'epochs': 5,\n",
       " 'drop_out': 0.2,\n",
       " 'batch_size': 128}"
      ]
     },
     "execution_count": 31,
     "metadata": {},
     "output_type": "execute_result"
    }
   ],
   "source": [
    "random_params.best_params_"
   ]
  },
  {
   "cell_type": "code",
   "execution_count": 32,
   "metadata": {},
   "outputs": [
    {
     "name": "stdout",
     "output_type": "stream",
     "text": [
      "313/313 [==============================] - 1s 2ms/step\n",
      "1250/1250 [==============================] - 3s 2ms/step\n",
      "Training set Accuracy:  98.00999999999999\n",
      "Test set Accuracy:  92.86999999999999\n"
     ]
    }
   ],
   "source": [
    "best_random = random_params.best_estimator_ \n",
    "pred = best_random.predict(X_test)\n",
    "pred_train = best_random.predict(X_train)\n",
    "print(\"Training set Accuracy: \", accuracy_score(pred_train, y_train)*100)\n",
    "print(\"Test set Accuracy: \", accuracy_score(pred, y_test)*100)"
   ]
  },
  {
   "cell_type": "code",
   "execution_count": 33,
   "metadata": {},
   "outputs": [
    {
     "name": "stdout",
     "output_type": "stream",
     "text": [
      "313/313 [==============================] - 1s 2ms/step\n",
      "Accuracy: 0.9287\n",
      "Precision: 0.9287622210263963\n",
      "Recall: 0.9287\n",
      "F1 Score: 0.9286987800467403\n",
      "Confusion Matrix:\n",
      "[[4658  327]\n",
      " [ 386 4629]]\n"
     ]
    },
    {
     "data": {
      "image/png": "[encoded data removed]",
      "text/plain": [
       "<Figure size 640x480 with 2 Axes>"
      ]
     },
     "metadata": {},
     "output_type": "display_data"
    }
   ],
   "source": [
    "from sklearn.metrics import accuracy_score, precision_score, recall_score, f1_score, confusion_matrix\n",
    "import seaborn as sns\n",
    "import matplotlib.pyplot as plt\n",
    "\n",
    "# Make predictions on test data\n",
    "y_pred = best_random.predict(X_test)\n",
    "\n",
    "# Evaluate the model\n",
    "accuracy = accuracy_score(y_test, y_pred)\n",
    "precision = precision_score(y_test, y_pred, average='weighted')\n",
    "recall = recall_score(y_test, y_pred, average='weighted')\n",
    "f1 = f1_score(y_test, y_pred, average='weighted')\n",
    "conf_matrix = confusion_matrix(y_test, y_pred)\n",
    "\n",
    "print('Accuracy:', accuracy)\n",
    "print('Precision:', precision)\n",
    "print('Recall:', recall)\n",
    "print('F1 Score:', f1)\n",
    "print('Confusion Matrix:')\n",
    "print(conf_matrix)\n",
    "\n",
    "# Plot the confusion matrix using heatmap\n",
    "sns.heatmap(conf_matrix, annot=True, cmap='YlOrBr', fmt='g', xticklabels=best_random.classes_, yticklabels=best_random.classes_)\n",
    "\n",
    "plt.xlabel('Predicted label')\n",
    "\n",
    "plt.ylabel('True label')\n",
    "\n",
    "plt.show()"
   ]
  },
  {
   "cell_type": "code",
   "execution_count": 36,
   "metadata": {
    "colab": {},
    "colab_type": "code",
    "id": "lsvl7vs090is"
   },
   "outputs": [
    {
     "name": "stdout",
     "output_type": "stream",
     "text": [
      "Model: \"sequential_45\"\n",
      "_________________________________________________________________\n",
      " Layer (type)                Output Shape              Param #   \n",
      "=================================================================\n",
      " dropout_66 (Dropout)        (None, 20000)             0         \n",
      "                                                                 \n",
      " dense_112 (Dense)           (None, 64)                1280064   \n",
      "                                                                 \n",
      " dropout_67 (Dropout)        (None, 64)                0         \n",
      "                                                                 \n",
      " dense_113 (Dense)           (None, 1)                 65        \n",
      "                                                                 \n",
      "=================================================================\n",
      "Total params: 1,280,129\n",
      "Trainable params: 1,280,129\n",
      "Non-trainable params: 0\n",
      "_________________________________________________________________\n"
     ]
    }
   ],
   "source": [
    "input_shape = X_train.shape[1:]\n",
    "\n",
    "model4 = Sequential([ \n",
    "    Dropout(0.2, input_shape=input_shape),\n",
    "    Dense(64, activation = 'relu'),\n",
    "    Dropout(0.2),\n",
    "    Dense(1, activation = 'sigmoid'),\n",
    "])\n",
    "\n",
    "optimizer = tf.keras.optimizers.Adam(lr=0.002)\n",
    "model4.compile(optimizer=optimizer, loss='binary_crossentropy', metrics=['acc'])\n",
    "\n",
    "model4.summary()"
   ]
  },
  {
   "cell_type": "code",
   "execution_count": 37,
   "metadata": {},
   "outputs": [
    {
     "name": "stdout",
     "output_type": "stream",
     "text": [
      " ~| Epoch: 1 | Validation Loss: 0.20361 >|> \n",
      " ~| Epoch: 2 | Validation Loss: 0.17547 >|> \n",
      " ~| Epoch: 3 | Validation Loss: 0.17244 >|> \n",
      " ~| Epoch: 4 | Validation Loss: 0.18172 >|> \n",
      "Done.\n"
     ]
    }
   ],
   "source": [
    "epochs = 150\n",
    "batch_size = 128\n",
    "\n",
    "\n",
    "h4 = model4.fit(X_train, y_train, epochs=epochs,\n",
    "               validation_split = 0.2,\n",
    "               callbacks=[early_stop, simple_log],\n",
    "               verbose=False,\n",
    "               batch_size=batch_size)\n",
    "print(\"Done.\")"
   ]
  },
  {
   "cell_type": "code",
   "execution_count": 38,
   "metadata": {},
   "outputs": [
    {
     "data": {
      "image/png": "[encoded data removed]",
      "text/plain": [
       "<Figure size 500x500 with 1 Axes>"
      ]
     },
     "metadata": {},
     "output_type": "display_data"
    }
   ],
   "source": [
    "plot_learning_curve(h4)"
   ]
  },
  {
   "cell_type": "code",
   "execution_count": null,
   "metadata": {},
   "outputs": [],
   "source": []
  },
  {
   "cell_type": "code",
   "execution_count": 39,
   "metadata": {},
   "outputs": [
    {
     "name": "stdout",
     "output_type": "stream",
     "text": [
      "313/313 [==============================] - 1s 2ms/step - loss: 0.1893 - acc: 0.9255\n",
      "Testing Accuracy:  92.5499975681305\n"
     ]
    }
   ],
   "source": [
    "loss, acc = model4.evaluate(X_test, y_test)\n",
    "print(\"Testing Accuracy: \", acc*100)"
   ]
  },
  {
   "cell_type": "code",
   "execution_count": null,
   "metadata": {},
   "outputs": [],
   "source": []
  },
  {
   "cell_type": "code",
   "execution_count": null,
   "metadata": {
    "colab": {},
    "colab_type": "code",
    "id": "gMIV84-h90ex"
   },
   "outputs": [],
   "source": []
  }
 ],
 "metadata": {
  "accelerator": "GPU",
  "colab": {
   "name": "Keras_Models_predictions.ipynb",
   "provenance": []
  },
  "kernelspec": {
   "display_name": "Python 3 (ipykernel)",
   "language": "python",
   "name": "python3"
  },
  "language_info": {
   "codemirror_mode": {
    "name": "ipython",
    "version": 3
   },
   "file_extension": ".py",
   "mimetype": "text/x-python",
   "name": "python",
   "nbconvert_exporter": "python",
   "pygments_lexer": "ipython3",
   "version": "3.10.10"
  }
 },
 "nbformat": 4,
 "nbformat_minor": 1
}
