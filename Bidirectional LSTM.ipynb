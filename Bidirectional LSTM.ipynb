{
 "cells": [
  {
   "cell_type": "code",
   "execution_count": null,
   "id": "bf14e61e",
   "metadata": {},
   "outputs": [],
   "source": []
  },
  {
   "cell_type": "code",
   "execution_count": 8,
   "id": "cd2cc20b",
   "metadata": {},
   "outputs": [
    {
     "name": "stderr",
     "output_type": "stream",
     "text": [
      "2023-05-20 23:36:36.023677: I tensorflow/core/platform/cpu_feature_guard.cc:193] This TensorFlow binary is optimized with oneAPI Deep Neural Network Library (oneDNN) to use the following CPU instructions in performance-critical operations:  SSE4.1 SSE4.2\n",
      "To enable them in other operations, rebuild TensorFlow with the appropriate compiler flags.\n",
      "2023-05-20 23:36:42.122141: I tensorflow/core/platform/cpu_feature_guard.cc:193] This TensorFlow binary is optimized with oneAPI Deep Neural Network Library (oneDNN) to use the following CPU instructions in performance-critical operations:  SSE4.1 SSE4.2\n",
      "To enable them in other operations, rebuild TensorFlow with the appropriate compiler flags.\n"
     ]
    },
    {
     "name": "stdout",
     "output_type": "stream",
     "text": [
      "Epoch 1/5\n",
      "391/391 [==============================] - 70s 177ms/step - loss: 0.4246 - accuracy: 0.7923 - val_loss: 0.3147 - val_accuracy: 0.8692\n",
      "Epoch 2/5\n",
      "391/391 [==============================] - 71s 183ms/step - loss: 0.2562 - accuracy: 0.8984 - val_loss: 0.2827 - val_accuracy: 0.8806\n",
      "Epoch 3/5\n",
      "391/391 [==============================] - 71s 181ms/step - loss: 0.2132 - accuracy: 0.9182 - val_loss: 0.2837 - val_accuracy: 0.8834\n",
      "Epoch 4/5\n",
      "391/391 [==============================] - 74s 189ms/step - loss: 0.1878 - accuracy: 0.9296 - val_loss: 0.2790 - val_accuracy: 0.8852\n",
      "Epoch 5/5\n",
      "391/391 [==============================] - 74s 190ms/step - loss: 0.1662 - accuracy: 0.9387 - val_loss: 0.2868 - val_accuracy: 0.8876\n",
      "782/782 [==============================] - 24s 30ms/step - loss: 0.2868 - accuracy: 0.8876\n",
      "Test Loss: 0.2868313193321228\n",
      "Test Accuracy: 0.8876399993896484\n",
      "782/782 [==============================] - 23s 29ms/step - loss: 0.1113 - accuracy: 0.9674\n",
      "Train Loss: 0.11132519692182541\n",
      "Train Accuracy: 0.9674000144004822\n",
      "782/782 [==============================] - 24s 30ms/step\n"
     ]
    }
   ],
   "source": [
    "import seaborn as sns\n",
    "import matplotlib.pyplot as plt\n",
    "from sklearn.metrics import accuracy_score, precision_score, recall_score, f1_score, confusion_matrix\n",
    "from tensorflow.keras.datasets import imdb\n",
    "from tensorflow.keras.models import Sequential\n",
    "from tensorflow.keras.layers import Embedding, LSTM, Conv1D, MaxPooling1D, Dense, Dropout\n",
    "from tensorflow.keras.preprocessing import sequence\n",
    "\n",
    "# Set parameters\n",
    "max_features = 5000\n",
    "max_length = 500\n",
    "embedding_dim = 50\n",
    "lstm_units = 64\n",
    "dropout_rate = 0.5\n",
    "filters = 64\n",
    "kernel_size = 5\n",
    "pool_size = 2\n",
    "batch_size = 64\n",
    "epochs = 5\n",
    "\n",
    "# Load the IMDB dataset\n",
    "(x_train, y_train), (x_test, y_test) = imdb.load_data(num_words=max_features)\n",
    "\n",
    "# Pad sequences to a fixed length\n",
    "x_train = sequence.pad_sequences(x_train, maxlen=max_length)\n",
    "x_test = sequence.pad_sequences(x_test, maxlen=max_length)\n",
    "\n",
    "# Build the model\n",
    "model = Sequential()\n",
    "model.add(Embedding(max_features, embedding_dim, input_length=max_length))\n",
    "model.add(Dropout(dropout_rate))\n",
    "model.add(Conv1D(filters, kernel_size, activation='relu'))\n",
    "model.add(MaxPooling1D(pool_size))\n",
    "model.add(LSTM(lstm_units))\n",
    "model.add(Dense(1, activation='sigmoid'))\n",
    "\n",
    "# Compile the model\n",
    "model.compile(loss='binary_crossentropy', optimizer='adam', metrics=['accuracy'])\n",
    "\n",
    "# Train the model\n",
    "model.fit(x_train, y_train, batch_size=batch_size, epochs=epochs, validation_data=(x_test, y_test))\n",
    "\n",
    "# Evaluate the model\n",
    "loss, accuracy = model.evaluate(x_test, y_test)\n",
    "print('Test Loss:', loss)\n",
    "print('Test Accuracy:', accuracy)\n",
    "\n",
    "# Calculate train accuracy\n",
    "train_loss, train_accuracy = model.evaluate(x_train, y_train)\n",
    "print('Train Loss:', train_loss)\n",
    "print('Train Accuracy:', train_accuracy)\n",
    "\n",
    "# Make predictions\n",
    "y_pred_prob = model.predict(x_test)\n",
    "y_pred = (y_pred_prob >= 0.5).astype(int)\n",
    "y_test = (y_test >= 0.5).astype(int)\n",
    "\n",
    "\n"
   ]
  },
  {
   "cell_type": "code",
   "execution_count": 9,
   "id": "d6ea60bd",
   "metadata": {},
   "outputs": [
    {
     "name": "stdout",
     "output_type": "stream",
     "text": [
      "Accuracy: 0.88764\n",
      "Precision: 0.8896662645757941\n",
      "Recall: 0.88504\n",
      "F1 Score: 0.8873471024664127\n"
     ]
    },
    {
     "data": {
      "image/png": "[encoded data removed]",
      "text/plain": [
       "<Figure size 640x480 with 2 Axes>"
      ]
     },
     "metadata": {},
     "output_type": "display_data"
    }
   ],
   "source": [
    "accuracy = accuracy_score(y_test, y_pred)\n",
    "precision = precision_score(y_test, y_pred)\n",
    "recall = recall_score(y_test, y_pred)\n",
    "f1 = f1_score(y_test, y_pred)\n",
    "\n",
    "# Print classification metrics\n",
    "print('Accuracy:', accuracy)\n",
    "print('Precision:', precision)\n",
    "print('Recall:', recall)\n",
    "print('F1 Score:', f1)\n",
    "\n",
    "# Plot the confusion matrix\n",
    "conf_matrix = confusion_matrix(y_test, y_pred)\n",
    "sns.heatmap(conf_matrix, annot=True, cmap='YlOrBr', fmt='g')\n",
    "plt.xlabel('Predicted label')\n",
    "plt.ylabel('True label')\n",
    "plt.show()"
   ]
  },
  {
   "cell_type": "code",
   "execution_count": null,
   "id": "61959c7d",
   "metadata": {},
   "outputs": [],
   "source": []
  }
 ],
 "metadata": {
  "kernelspec": {
   "display_name": "Python 3 (ipykernel)",
   "language": "python",
   "name": "python3"
  },
  "language_info": {
   "codemirror_mode": {
    "name": "ipython",
    "version": 3
   },
   "file_extension": ".py",
   "mimetype": "text/x-python",
   "name": "python",
   "nbconvert_exporter": "python",
   "pygments_lexer": "ipython3",
   "version": "3.10.10"
  }
 },
 "nbformat": 4,
 "nbformat_minor": 5
}
