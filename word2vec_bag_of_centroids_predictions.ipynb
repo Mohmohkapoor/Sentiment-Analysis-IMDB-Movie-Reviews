{
 "cells": [
  {
   "cell_type": "markdown",
   "metadata": {
    "colab_type": "text",
    "id": "CY_RJGbydZCh"
   },
   "source": [
    "# <h1 align= 'center'>Gensim Word2Vec Embeddings</h1>"
   ]
  },
  {
   "cell_type": "markdown",
   "metadata": {},
   "source": [
    "The goal for this analysis is to predict if a review rates the movie positively or negatively. \n",
    "<a href=\"https://imgur.com/FfdEBRz\"><img src=\"https://i.imgur.com/FfdEBRzm.png\" title=\"source: imgur.com\" align=\"right\"></a>\n",
    "- IMDB movie reviews dataset\n",
    "- http://ai.stanford.edu/~amaas/data/sentiment\n",
    "- Contains 25000 positive and 25000 negative reviews\n",
    "- Contains at most reviews per movie\n",
    "- At least 7 stars out of 10 $\\rightarrow$ positive (label = 1)\n",
    "- At most 4 stars out of 10 $\\rightarrow$ negative (label = 0)\n",
    "\n",
    "> **Here, we use Gensim Word2Vec vectors to train a bag of centroids model to train machine learning models on.**"
   ]
  },
  {
   "cell_type": "markdown",
   "metadata": {
    "colab_type": "text",
    "id": "NNX-9EtydZCj"
   },
   "source": [
    "## <h2 align = \"center\" >Dependecies</h2>"
   ]
  },
  {
   "cell_type": "code",
   "execution_count": 35,
   "metadata": {
    "colab": {
     "base_uri": "https://localhost:8080/",
     "height": 52
    },
    "colab_type": "code",
    "id": "pKWWJjN8dZCl",
    "outputId": "482f403a-c401-4273-be6a-1eae39137187"
   },
   "outputs": [
    {
     "name": "stderr",
     "output_type": "stream",
     "text": [
      "[nltk_data] Downloading package stopwords to\n",
      "[nltk_data]     /Users/mohitkapoor/nltk_data...\n",
      "[nltk_data]   Package stopwords is already up-to-date!\n"
     ]
    }
   ],
   "source": [
    "import os\n",
    "import re\n",
    "import nltk\n",
    "import time\n",
    "import logging  \n",
    "import unicodedata\n",
    "import numpy as np\n",
    "import pandas as pd\n",
    "import seaborn as sns\n",
    "import multiprocessing\n",
    "from bs4 import BeautifulSoup\n",
    "import matplotlib.pyplot as plt\n",
    "from nltk.corpus import stopwords\n",
    "from collections import defaultdict\n",
    "from nltk.stem import SnowballStemmer\n",
    "from nltk.tokenize import word_tokenize, sent_tokenize\n",
    "from sklearn import preprocessing\n",
    "from gensim.models import word2vec\n",
    "from sklearn.cluster import KMeans\n",
    "from sklearn.ensemble import VotingClassifier as vc\n",
    "from sklearn.model_selection import cross_val_score\n",
    "from sklearn.svm import LinearSVC as svc\n",
    "from sklearn.linear_model import LogisticRegression as lr\n",
    "from sklearn.model_selection import train_test_split, GridSearchCV\n",
    "from sklearn.metrics import roc_auc_score, accuracy_score, confusion_matrix\n",
    "nltk.download('stopwords')\n",
    "import warnings\n",
    "warnings.filterwarnings('ignore')"
   ]
  },
  {
   "cell_type": "code",
   "execution_count": 36,
   "metadata": {
    "colab": {},
    "colab_type": "code",
    "id": "dK-znQrDdZCw",
    "scrolled": true
   },
   "outputs": [
    {
     "data": {
      "text/html": [
       "<div>\n",
       "<style scoped>\n",
       "    .dataframe tbody tr th:only-of-type {\n",
       "        vertical-align: middle;\n",
       "    }\n",
       "\n",
       "    .dataframe tbody tr th {\n",
       "        vertical-align: top;\n",
       "    }\n",
       "\n",
       "    .dataframe thead th {\n",
       "        text-align: right;\n",
       "    }\n",
       "</style>\n",
       "<table border=\"1\" class=\"dataframe\">\n",
       "  <thead>\n",
       "    <tr style=\"text-align: right;\">\n",
       "      <th></th>\n",
       "      <th>review</th>\n",
       "      <th>sentiment</th>\n",
       "    </tr>\n",
       "  </thead>\n",
       "  <tbody>\n",
       "    <tr>\n",
       "      <th>12984</th>\n",
       "      <td>This anime seriously rocked my socks. When the...</td>\n",
       "      <td>positive</td>\n",
       "    </tr>\n",
       "    <tr>\n",
       "      <th>41893</th>\n",
       "      <td>This movie was by far the worst movie that I h...</td>\n",
       "      <td>negative</td>\n",
       "    </tr>\n",
       "    <tr>\n",
       "      <th>39868</th>\n",
       "      <td>Simon Pegg plays the part of Sidney Young, a y...</td>\n",
       "      <td>positive</td>\n",
       "    </tr>\n",
       "    <tr>\n",
       "      <th>24041</th>\n",
       "      <td>Zeoy101?? Really, this has to be one of the mo...</td>\n",
       "      <td>negative</td>\n",
       "    </tr>\n",
       "    <tr>\n",
       "      <th>48458</th>\n",
       "      <td>Never viewed this 1971 film and was greatly en...</td>\n",
       "      <td>positive</td>\n",
       "    </tr>\n",
       "    <tr>\n",
       "      <th>27592</th>\n",
       "      <td>Before you dismiss my post as \"not getting it\"...</td>\n",
       "      <td>negative</td>\n",
       "    </tr>\n",
       "    <tr>\n",
       "      <th>42929</th>\n",
       "      <td>Ironically for a play unavailable on film or v...</td>\n",
       "      <td>positive</td>\n",
       "    </tr>\n",
       "  </tbody>\n",
       "</table>\n",
       "</div>"
      ],
      "text/plain": [
       "                                                  review sentiment\n",
       "12984  This anime seriously rocked my socks. When the...  positive\n",
       "41893  This movie was by far the worst movie that I h...  negative\n",
       "39868  Simon Pegg plays the part of Sidney Young, a y...  positive\n",
       "24041  Zeoy101?? Really, this has to be one of the mo...  negative\n",
       "48458  Never viewed this 1971 film and was greatly en...  positive\n",
       "27592  Before you dismiss my post as \"not getting it\"...  negative\n",
       "42929  Ironically for a play unavailable on film or v...  positive"
      ]
     },
     "execution_count": 36,
     "metadata": {},
     "output_type": "execute_result"
    }
   ],
   "source": [
    " movies = pd.read_csv('/Users/mohitkapoor/Downloads/New code/imdb_data.csv')\n",
    "movies.sample(7)"
   ]
  },
  {
   "cell_type": "code",
   "execution_count": 37,
   "metadata": {
    "colab": {
     "base_uri": "https://localhost:8080/",
     "height": 202
    },
    "colab_type": "code",
    "id": "0w-PU25AdZC8",
    "outputId": "f3753f82-81d3-4df9-8d9d-93b6827ccb53"
   },
   "outputs": [
    {
     "data": {
      "text/html": [
       "<div>\n",
       "<style scoped>\n",
       "    .dataframe tbody tr th:only-of-type {\n",
       "        vertical-align: middle;\n",
       "    }\n",
       "\n",
       "    .dataframe tbody tr th {\n",
       "        vertical-align: top;\n",
       "    }\n",
       "\n",
       "    .dataframe thead th {\n",
       "        text-align: right;\n",
       "    }\n",
       "</style>\n",
       "<table border=\"1\" class=\"dataframe\">\n",
       "  <thead>\n",
       "    <tr style=\"text-align: right;\">\n",
       "      <th></th>\n",
       "      <th>review</th>\n",
       "      <th>sentiment</th>\n",
       "    </tr>\n",
       "  </thead>\n",
       "  <tbody>\n",
       "    <tr>\n",
       "      <th>0</th>\n",
       "      <td>One of the other reviewers has mentioned that ...</td>\n",
       "      <td>1</td>\n",
       "    </tr>\n",
       "    <tr>\n",
       "      <th>1</th>\n",
       "      <td>A wonderful little production. &lt;br /&gt;&lt;br /&gt;The...</td>\n",
       "      <td>1</td>\n",
       "    </tr>\n",
       "    <tr>\n",
       "      <th>2</th>\n",
       "      <td>I thought this was a wonderful way to spend ti...</td>\n",
       "      <td>1</td>\n",
       "    </tr>\n",
       "    <tr>\n",
       "      <th>3</th>\n",
       "      <td>Basically there's a family where a little boy ...</td>\n",
       "      <td>0</td>\n",
       "    </tr>\n",
       "    <tr>\n",
       "      <th>4</th>\n",
       "      <td>Petter Mattei's \"Love in the Time of Money\" is...</td>\n",
       "      <td>1</td>\n",
       "    </tr>\n",
       "  </tbody>\n",
       "</table>\n",
       "</div>"
      ],
      "text/plain": [
       "                                              review  sentiment\n",
       "0  One of the other reviewers has mentioned that ...          1\n",
       "1  A wonderful little production. <br /><br />The...          1\n",
       "2  I thought this was a wonderful way to spend ti...          1\n",
       "3  Basically there's a family where a little boy ...          0\n",
       "4  Petter Mattei's \"Love in the Time of Money\" is...          1"
      ]
     },
     "execution_count": 37,
     "metadata": {},
     "output_type": "execute_result"
    }
   ],
   "source": [
    "# Cateogrize positive and negative as 1 and 0 respectively\n",
    "\n",
    "label_encoder = preprocessing.LabelEncoder()\n",
    "movies['sentiment'] = label_encoder.fit_transform(movies['sentiment'])\n",
    "movies.head()"
   ]
  },
  {
   "cell_type": "code",
   "execution_count": 38,
   "metadata": {
    "colab": {
     "base_uri": "https://localhost:8080/",
     "height": 70
    },
    "colab_type": "code",
    "id": "8xmJjzqNdZDC",
    "outputId": "bed7d510-7687-4aeb-8745-d317577eb8ec"
   },
   "outputs": [
    {
     "name": "stdout",
     "output_type": "stream",
     "text": [
      "Train dataset shape: (40000,), \n",
      "Test dataset shape: (10000,)\n"
     ]
    },
    {
     "data": {
      "text/plain": [
       "<function print>"
      ]
     },
     "execution_count": 38,
     "metadata": {},
     "output_type": "execute_result"
    }
   ],
   "source": [
    "X = movies['review']\n",
    "y = (np.array(movies['sentiment']))\n",
    "\n",
    "# Here we split data to training and testing parts\n",
    "X_train, X_test, y_train, y_test = train_test_split(X, y, test_size=0.2, random_state=7)\n",
    "print(f\"Train dataset shape: {X_train.shape}, \\nTest dataset shape: {X_test.shape}\")\n",
    "print"
   ]
  },
  {
   "cell_type": "markdown",
   "metadata": {
    "colab_type": "text",
    "id": "5zJXCRc4dZDH"
   },
   "source": [
    "## <h2> <center>Preprocessing</center></h2>"
   ]
  },
  {
   "cell_type": "code",
   "execution_count": 39,
   "metadata": {
    "colab": {
     "base_uri": "https://localhost:8080/",
     "height": 140
    },
    "colab_type": "code",
    "id": "ODii5SwtdZDI",
    "outputId": "ca5b0b11-7342-477e-f965-0faec01b697a"
   },
   "outputs": [
    {
     "name": "stdout",
     "output_type": "stream",
     "text": [
      "Requirement already satisfied: contractions in /Users/mohitkapoor/anaconda3/envs/Thesis/lib/python3.10/site-packages (0.1.73)\n",
      "Requirement already satisfied: textsearch>=0.0.21 in /Users/mohitkapoor/anaconda3/envs/Thesis/lib/python3.10/site-packages (from contractions) (0.0.24)\n",
      "Requirement already satisfied: pyahocorasick in /Users/mohitkapoor/anaconda3/envs/Thesis/lib/python3.10/site-packages (from textsearch>=0.0.21->contractions) (2.0.0)\n",
      "Requirement already satisfied: anyascii in /Users/mohitkapoor/anaconda3/envs/Thesis/lib/python3.10/site-packages (from textsearch>=0.0.21->contractions) (0.3.2)\n",
      "Requirement already satisfied: textsearch in /Users/mohitkapoor/anaconda3/envs/Thesis/lib/python3.10/site-packages (0.0.24)\n",
      "Requirement already satisfied: pyahocorasick in /Users/mohitkapoor/anaconda3/envs/Thesis/lib/python3.10/site-packages (from textsearch) (2.0.0)\n",
      "Requirement already satisfied: anyascii in /Users/mohitkapoor/anaconda3/envs/Thesis/lib/python3.10/site-packages (from textsearch) (0.3.2)\n"
     ]
    }
   ],
   "source": [
    "!pip install contractions\n",
    "!pip install textsearch\n",
    "import contractions"
   ]
  },
  {
   "cell_type": "code",
   "execution_count": 40,
   "metadata": {
    "colab": {},
    "colab_type": "code",
    "id": "jtrqCv_FdZDN"
   },
   "outputs": [],
   "source": [
    "def review_to_wordlist(review, custom = True, stem_words = True):\n",
    "    # Clean the text, with the option to remove stopwords and stem words.\n",
    "    \n",
    "    # Strip html\n",
    "    soup = BeautifulSoup(review, \"html.parser\")\n",
    "    [s.extract() for s in soup(['iframe', 'script'])]\n",
    "    stripped_text = soup.get_text()\n",
    "    review_text = re.sub(r'[\\r|\\n|\\r\\n]+', '\\n', stripped_text)\n",
    "    \n",
    "    # replace accents\n",
    "    review_text = unicodedata.normalize('NFKD', review_text).encode('ascii', 'ignore').decode('utf-8', 'ignore')\n",
    "    review_text = re.sub(r\"[^A-Za-z0-9!?\\'\\`]\", \" \", review_text) # remove special characters\n",
    "    review_text = contractions.fix(review_text) # expand contractions\n",
    "    \n",
    "    review_text = review_text.lower()\n",
    "    words = review_text.split()\n",
    "    if custom:\n",
    "        stop_words = set(nltk.corpus.stopwords.words('english'))\n",
    "        stop_words.update(['movie', 'film', 'one', 'would', 'even', \n",
    "                           'movies', 'films', 'cinema',\n",
    "                           'character', 'show', \"'\", \"!\", 'like'])\n",
    "    else:\n",
    "        stop_words = set(nltk.corpus.stopwords.words('english'))\n",
    "    words = [w for w in words if not w in stop_words]\n",
    "    review_text = \" \".join(words)\n",
    "        \n",
    "    review_text = re.sub(r\"!\", \" ! \", review_text)\n",
    "    review_text = re.sub(r\"\\?\", \" ? \", review_text)\n",
    "    review_text = re.sub(r\"\\s{2,}\", \" \", review_text)\n",
    "    \n",
    "    if stem_words:\n",
    "        words = review_text.split()\n",
    "        stemmer = SnowballStemmer('english')\n",
    "        stemmed_words = [stemmer.stem(word) for word in words]\n",
    "        review_text = \" \".join(stemmed_words)\n",
    "    \n",
    "    # Return a list of words, with each word as its own string\n",
    "    return review_text.split()"
   ]
  },
  {
   "cell_type": "code",
   "execution_count": 41,
   "metadata": {
    "colab": {},
    "colab_type": "code",
    "id": "l1dU0RtPdZDS"
   },
   "outputs": [],
   "source": [
    "def review_to_sentences(review):\n",
    "    # Split a review into parsed sentences\n",
    "    \n",
    "    raw_sentences = sent_tokenize(review.strip())\n",
    "    \n",
    "    sentences = []\n",
    "    for raw_sentence in raw_sentences:\n",
    "        if len(raw_sentence) > 0:\n",
    "            sentences.append(review_to_wordlist(raw_sentence))\n",
    "    \n",
    "    # Each sentence is a list of words, so this returns a list of lists\n",
    "    return sentences"
   ]
  },
  {
   "cell_type": "code",
   "execution_count": 42,
   "metadata": {
    "colab": {
     "base_uri": "https://localhost:8080/",
     "height": 34
    },
    "colab_type": "code",
    "id": "G8Nmi7KddZDa",
    "outputId": "2b746e47-71a1-48e2-fe61-1e0b56ac3e87"
   },
   "outputs": [
    {
     "name": "stdout",
     "output_type": "stream",
     "text": [
      "Parsing sentences ...\n"
     ]
    }
   ],
   "source": [
    "sentences = [] \n",
    "\n",
    "print (\"Parsing sentences ...\")\n",
    "for review in movies['review']:\n",
    "    sentences += review_to_sentences(review)"
   ]
  },
  {
   "cell_type": "code",
   "execution_count": 43,
   "metadata": {
    "colab": {
     "base_uri": "https://localhost:8080/",
     "height": 105
    },
    "colab_type": "code",
    "id": "8ZJjmfe4dZDf",
    "outputId": "f843869c-c636-4ed9-ba27-418c4552469c"
   },
   "outputs": [
    {
     "name": "stdout",
     "output_type": "stream",
     "text": [
      "537072\n",
      "\n",
      "['review', 'mention', 'watch', '1', 'oz', 'episod', 'hook']\n",
      "\n",
      "['right', 'exact', 'happen', 'first', 'thing', 'struck', 'oz', 'brutal', 'unflinch', 'scene', 'violenc', 'set', 'right', 'word', 'go']\n"
     ]
    }
   ],
   "source": [
    "# Check how many sentences we have in total \n",
    "print (len(sentences))\n",
    "print()\n",
    "print (sentences[0])\n",
    "print()\n",
    "print (sentences[1])"
   ]
  },
  {
   "cell_type": "code",
   "execution_count": 44,
   "metadata": {
    "colab": {
     "base_uri": "https://localhost:8080/",
     "height": 1000
    },
    "colab_type": "code",
    "id": "FD4f17nfdZDn",
    "outputId": "670cd68c-45c8-489c-951e-a990c7ab6028"
   },
   "outputs": [
    {
     "name": "stderr",
     "output_type": "stream",
     "text": [
      "2023-05-20 20:52:10,432 : INFO : collecting all words and their counts\n",
      "2023-05-20 20:52:10,433 : INFO : PROGRESS: at sentence #0, processed 0 words, keeping 0 word types\n",
      "2023-05-20 20:52:10,470 : INFO : PROGRESS: at sentence #10000, processed 109914 words, keeping 12265 word types\n",
      "2023-05-20 20:52:10,494 : INFO : PROGRESS: at sentence #20000, processed 212271 words, keeping 16938 word types\n",
      "2023-05-20 20:52:10,514 : INFO : PROGRESS: at sentence #30000, processed 320095 words, keeping 20427 word types\n",
      "2023-05-20 20:52:10,531 : INFO : PROGRESS: at sentence #40000, processed 428926 words, keeping 23437 word types\n",
      "2023-05-20 20:52:10,549 : INFO : PROGRESS: at sentence #50000, processed 537835 words, keeping 26058 word types\n",
      "2023-05-20 20:52:10,566 : INFO : PROGRESS: at sentence #60000, processed 646828 words, keeping 28289 word types\n",
      "2023-05-20 20:52:10,583 : INFO : PROGRESS: at sentence #70000, processed 753604 words, keeping 30230 word types\n",
      "2023-05-20 20:52:10,600 : INFO : PROGRESS: at sentence #80000, processed 857762 words, keeping 31948 word types\n",
      "2023-05-20 20:52:10,617 : INFO : PROGRESS: at sentence #90000, processed 964620 words, keeping 33674 word types\n",
      "2023-05-20 20:52:10,635 : INFO : PROGRESS: at sentence #100000, processed 1074110 words, keeping 35281 word types\n"
     ]
    },
    {
     "name": "stdout",
     "output_type": "stream",
     "text": [
      "Training model...\n"
     ]
    },
    {
     "name": "stderr",
     "output_type": "stream",
     "text": [
      "2023-05-20 20:52:10,652 : INFO : PROGRESS: at sentence #110000, processed 1178016 words, keeping 36789 word types\n",
      "2023-05-20 20:52:10,670 : INFO : PROGRESS: at sentence #120000, processed 1284736 words, keeping 38265 word types\n",
      "2023-05-20 20:52:10,689 : INFO : PROGRESS: at sentence #130000, processed 1392608 words, keeping 39721 word types\n",
      "2023-05-20 20:52:10,708 : INFO : PROGRESS: at sentence #140000, processed 1501307 words, keeping 40967 word types\n",
      "2023-05-20 20:52:10,723 : INFO : PROGRESS: at sentence #150000, processed 1606815 words, keeping 42049 word types\n",
      "2023-05-20 20:52:10,741 : INFO : PROGRESS: at sentence #160000, processed 1710339 words, keeping 43288 word types\n",
      "2023-05-20 20:52:10,758 : INFO : PROGRESS: at sentence #170000, processed 1816316 words, keeping 44465 word types\n",
      "2023-05-20 20:52:10,775 : INFO : PROGRESS: at sentence #180000, processed 1924378 words, keeping 45586 word types\n",
      "2023-05-20 20:52:10,792 : INFO : PROGRESS: at sentence #190000, processed 2031081 words, keeping 46703 word types\n",
      "2023-05-20 20:52:10,810 : INFO : PROGRESS: at sentence #200000, processed 2138078 words, keeping 47758 word types\n",
      "2023-05-20 20:52:10,827 : INFO : PROGRESS: at sentence #210000, processed 2243100 words, keeping 48726 word types\n",
      "2023-05-20 20:52:10,845 : INFO : PROGRESS: at sentence #220000, processed 2350354 words, keeping 49737 word types\n",
      "2023-05-20 20:52:10,863 : INFO : PROGRESS: at sentence #230000, processed 2458217 words, keeping 50714 word types\n",
      "2023-05-20 20:52:10,880 : INFO : PROGRESS: at sentence #240000, processed 2566115 words, keeping 51626 word types\n",
      "2023-05-20 20:52:10,898 : INFO : PROGRESS: at sentence #250000, processed 2674745 words, keeping 52619 word types\n",
      "2023-05-20 20:52:10,915 : INFO : PROGRESS: at sentence #260000, processed 2780434 words, keeping 53458 word types\n",
      "2023-05-20 20:52:10,933 : INFO : PROGRESS: at sentence #270000, processed 2887395 words, keeping 54334 word types\n",
      "2023-05-20 20:52:10,951 : INFO : PROGRESS: at sentence #280000, processed 2996398 words, keeping 55216 word types\n",
      "2023-05-20 20:52:10,969 : INFO : PROGRESS: at sentence #290000, processed 3101366 words, keeping 56101 word types\n",
      "2023-05-20 20:52:10,986 : INFO : PROGRESS: at sentence #300000, processed 3208314 words, keeping 56983 word types\n",
      "2023-05-20 20:52:11,004 : INFO : PROGRESS: at sentence #310000, processed 3314093 words, keeping 57894 word types\n",
      "2023-05-20 20:52:11,020 : INFO : PROGRESS: at sentence #320000, processed 3423048 words, keeping 58732 word types\n",
      "2023-05-20 20:52:11,036 : INFO : PROGRESS: at sentence #330000, processed 3529247 words, keeping 59569 word types\n",
      "2023-05-20 20:52:11,053 : INFO : PROGRESS: at sentence #340000, processed 3635444 words, keeping 60404 word types\n",
      "2023-05-20 20:52:11,071 : INFO : PROGRESS: at sentence #350000, processed 3743125 words, keeping 61203 word types\n",
      "2023-05-20 20:52:11,088 : INFO : PROGRESS: at sentence #360000, processed 3848548 words, keeping 61939 word types\n",
      "2023-05-20 20:52:11,107 : INFO : PROGRESS: at sentence #370000, processed 3955950 words, keeping 62789 word types\n",
      "2023-05-20 20:52:11,124 : INFO : PROGRESS: at sentence #380000, processed 4063079 words, keeping 63547 word types\n",
      "2023-05-20 20:52:11,142 : INFO : PROGRESS: at sentence #390000, processed 4168076 words, keeping 64303 word types\n",
      "2023-05-20 20:52:11,159 : INFO : PROGRESS: at sentence #400000, processed 4272971 words, keeping 65093 word types\n",
      "2023-05-20 20:52:11,177 : INFO : PROGRESS: at sentence #410000, processed 4379095 words, keeping 65782 word types\n",
      "2023-05-20 20:52:11,195 : INFO : PROGRESS: at sentence #420000, processed 4484668 words, keeping 66482 word types\n",
      "2023-05-20 20:52:11,212 : INFO : PROGRESS: at sentence #430000, processed 4591291 words, keeping 67153 word types\n",
      "2023-05-20 20:52:11,230 : INFO : PROGRESS: at sentence #440000, processed 4696623 words, keeping 67855 word types\n",
      "2023-05-20 20:52:11,248 : INFO : PROGRESS: at sentence #450000, processed 4802013 words, keeping 68539 word types\n",
      "2023-05-20 20:52:11,265 : INFO : PROGRESS: at sentence #460000, processed 4905671 words, keeping 69292 word types\n",
      "2023-05-20 20:52:11,282 : INFO : PROGRESS: at sentence #470000, processed 5011709 words, keeping 70017 word types\n",
      "2023-05-20 20:52:11,300 : INFO : PROGRESS: at sentence #480000, processed 5118726 words, keeping 70694 word types\n",
      "2023-05-20 20:52:11,317 : INFO : PROGRESS: at sentence #490000, processed 5225576 words, keeping 71405 word types\n",
      "2023-05-20 20:52:11,335 : INFO : PROGRESS: at sentence #500000, processed 5333171 words, keeping 72083 word types\n",
      "2023-05-20 20:52:11,354 : INFO : PROGRESS: at sentence #510000, processed 5438565 words, keeping 72735 word types\n",
      "2023-05-20 20:52:11,373 : INFO : PROGRESS: at sentence #520000, processed 5545392 words, keeping 73381 word types\n",
      "2023-05-20 20:52:11,390 : INFO : PROGRESS: at sentence #530000, processed 5649129 words, keeping 73977 word types\n",
      "2023-05-20 20:52:11,403 : INFO : collected 74429 word types from a corpus of 5722154 raw words and 537072 sentences\n",
      "2023-05-20 20:52:11,404 : INFO : Creating a fresh vocabulary\n",
      "2023-05-20 20:52:11,479 : INFO : Word2Vec lifecycle event {'msg': 'effective_min_count=5 retains 26763 unique words (35.96% of original 74429, drops 47666)', 'datetime': '2023-05-20T20:52:11.479258', 'gensim': '4.3.1', 'python': '3.10.10 (main, Mar 21 2023, 13:41:39) [Clang 14.0.6 ]', 'platform': 'macOS-10.16-x86_64-i386-64bit', 'event': 'prepare_vocab'}\n",
      "2023-05-20 20:52:11,479 : INFO : Word2Vec lifecycle event {'msg': 'effective_min_count=5 leaves 5648094 word corpus (98.71% of original 5722154, drops 74060)', 'datetime': '2023-05-20T20:52:11.479759', 'gensim': '4.3.1', 'python': '3.10.10 (main, Mar 21 2023, 13:41:39) [Clang 14.0.6 ]', 'platform': 'macOS-10.16-x86_64-i386-64bit', 'event': 'prepare_vocab'}\n",
      "2023-05-20 20:52:11,578 : INFO : deleting the raw counts dictionary of 74429 items\n",
      "2023-05-20 20:52:11,579 : INFO : sample=0.0001 downsamples 751 most-common words\n",
      "2023-05-20 20:52:11,580 : INFO : Word2Vec lifecycle event {'msg': 'downsampling leaves estimated 3775754.9346194477 word corpus (66.9%% of prior 5648094)', 'datetime': '2023-05-20T20:52:11.580127', 'gensim': '4.3.1', 'python': '3.10.10 (main, Mar 21 2023, 13:41:39) [Clang 14.0.6 ]', 'platform': 'macOS-10.16-x86_64-i386-64bit', 'event': 'prepare_vocab'}\n",
      "2023-05-20 20:52:11,745 : INFO : estimated required memory for 26763 words and 300 dimensions: 77612700 bytes\n",
      "2023-05-20 20:52:11,745 : INFO : resetting layer weights\n",
      "2023-05-20 20:52:11,806 : INFO : Word2Vec lifecycle event {'update': False, 'trim_rule': 'None', 'datetime': '2023-05-20T20:52:11.806498', 'gensim': '4.3.1', 'python': '3.10.10 (main, Mar 21 2023, 13:41:39) [Clang 14.0.6 ]', 'platform': 'macOS-10.16-x86_64-i386-64bit', 'event': 'build_vocab'}\n",
      "2023-05-20 20:52:11,807 : INFO : Word2Vec lifecycle event {'msg': 'training model with 1 workers on 26763 vocabulary and 300 features, using sg=0 hs=0 sample=0.0001 negative=5 window=20 shrink_windows=True', 'datetime': '2023-05-20T20:52:11.807043', 'gensim': '4.3.1', 'python': '3.10.10 (main, Mar 21 2023, 13:41:39) [Clang 14.0.6 ]', 'platform': 'macOS-10.16-x86_64-i386-64bit', 'event': 'train'}\n",
      "2023-05-20 20:52:12,828 : INFO : EPOCH 0 - PROGRESS: at 10.03% examples, 375620 words/s, in_qsize 1, out_qsize 0\n",
      "2023-05-20 20:52:13,843 : INFO : EPOCH 0 - PROGRESS: at 20.14% examples, 376205 words/s, in_qsize 1, out_qsize 0\n",
      "2023-05-20 20:52:14,846 : INFO : EPOCH 0 - PROGRESS: at 30.10% examples, 375218 words/s, in_qsize 1, out_qsize 0\n",
      "2023-05-20 20:52:15,857 : INFO : EPOCH 0 - PROGRESS: at 40.22% examples, 376169 words/s, in_qsize 1, out_qsize 0\n",
      "2023-05-20 20:52:16,871 : INFO : EPOCH 0 - PROGRESS: at 50.27% examples, 376413 words/s, in_qsize 1, out_qsize 0\n",
      "2023-05-20 20:52:17,875 : INFO : EPOCH 0 - PROGRESS: at 60.36% examples, 377139 words/s, in_qsize 1, out_qsize 0\n",
      "2023-05-20 20:52:18,890 : INFO : EPOCH 0 - PROGRESS: at 69.95% examples, 374406 words/s, in_qsize 1, out_qsize 0\n",
      "2023-05-20 20:52:19,893 : INFO : EPOCH 0 - PROGRESS: at 80.14% examples, 375250 words/s, in_qsize 1, out_qsize 0\n",
      "2023-05-20 20:52:20,909 : INFO : EPOCH 0 - PROGRESS: at 90.50% examples, 376135 words/s, in_qsize 1, out_qsize 0\n",
      "2023-05-20 20:52:21,829 : INFO : EPOCH 0: training on 5722154 raw words (3775397 effective words) took 10.0s, 376907 effective words/s\n"
     ]
    },
    {
     "name": "stderr",
     "output_type": "stream",
     "text": [
      "2023-05-20 20:52:22,848 : INFO : EPOCH 1 - PROGRESS: at 10.20% examples, 382355 words/s, in_qsize 1, out_qsize 0\n",
      "2023-05-20 20:52:23,848 : INFO : EPOCH 1 - PROGRESS: at 20.32% examples, 382381 words/s, in_qsize 1, out_qsize 0\n",
      "2023-05-20 20:52:24,865 : INFO : EPOCH 1 - PROGRESS: at 30.63% examples, 382378 words/s, in_qsize 1, out_qsize 0\n",
      "2023-05-20 20:52:25,881 : INFO : EPOCH 1 - PROGRESS: at 40.91% examples, 382582 words/s, in_qsize 1, out_qsize 0\n",
      "2023-05-20 20:52:26,886 : INFO : EPOCH 1 - PROGRESS: at 50.94% examples, 382328 words/s, in_qsize 1, out_qsize 0\n",
      "2023-05-20 20:52:27,889 : INFO : EPOCH 1 - PROGRESS: at 61.05% examples, 382092 words/s, in_qsize 1, out_qsize 0\n",
      "2023-05-20 20:52:28,894 : INFO : EPOCH 1 - PROGRESS: at 71.17% examples, 381921 words/s, in_qsize 1, out_qsize 0\n",
      "2023-05-20 20:52:29,911 : INFO : EPOCH 1 - PROGRESS: at 81.55% examples, 381964 words/s, in_qsize 1, out_qsize 0\n",
      "2023-05-20 20:52:30,918 : INFO : EPOCH 1 - PROGRESS: at 91.75% examples, 381746 words/s, in_qsize 1, out_qsize 0\n",
      "2023-05-20 20:52:31,722 : INFO : EPOCH 1: training on 5722154 raw words (3776588 effective words) took 9.9s, 381854 effective words/s\n",
      "2023-05-20 20:52:32,740 : INFO : EPOCH 2 - PROGRESS: at 10.20% examples, 382893 words/s, in_qsize 1, out_qsize 0\n",
      "2023-05-20 20:52:33,751 : INFO : EPOCH 2 - PROGRESS: at 20.49% examples, 383510 words/s, in_qsize 1, out_qsize 0\n",
      "2023-05-20 20:52:34,763 : INFO : EPOCH 2 - PROGRESS: at 30.10% examples, 375014 words/s, in_qsize 1, out_qsize 0\n",
      "2023-05-20 20:52:35,779 : INFO : EPOCH 2 - PROGRESS: at 40.22% examples, 375468 words/s, in_qsize 1, out_qsize 0\n",
      "2023-05-20 20:52:36,792 : INFO : EPOCH 2 - PROGRESS: at 50.27% examples, 376019 words/s, in_qsize 1, out_qsize 0\n",
      "2023-05-20 20:52:37,802 : INFO : EPOCH 2 - PROGRESS: at 60.36% examples, 376397 words/s, in_qsize 1, out_qsize 0\n",
      "2023-05-20 20:52:38,805 : INFO : EPOCH 2 - PROGRESS: at 70.46% examples, 377175 words/s, in_qsize 1, out_qsize 0\n",
      "2023-05-20 20:52:39,806 : INFO : EPOCH 2 - PROGRESS: at 80.68% examples, 377734 words/s, in_qsize 1, out_qsize 0\n",
      "2023-05-20 20:52:40,816 : INFO : EPOCH 2 - PROGRESS: at 90.87% examples, 377795 words/s, in_qsize 1, out_qsize 0\n",
      "2023-05-20 20:52:41,717 : INFO : EPOCH 2: training on 5722154 raw words (3775662 effective words) took 10.0s, 377845 effective words/s\n",
      "2023-05-20 20:52:42,737 : INFO : EPOCH 3 - PROGRESS: at 10.03% examples, 375707 words/s, in_qsize 1, out_qsize 0\n",
      "2023-05-20 20:52:43,753 : INFO : EPOCH 3 - PROGRESS: at 20.14% examples, 376230 words/s, in_qsize 1, out_qsize 0\n",
      "2023-05-20 20:52:44,756 : INFO : EPOCH 3 - PROGRESS: at 30.10% examples, 375394 words/s, in_qsize 1, out_qsize 0\n",
      "2023-05-20 20:52:45,760 : INFO : EPOCH 3 - PROGRESS: at 40.22% examples, 376831 words/s, in_qsize 1, out_qsize 0\n",
      "2023-05-20 20:52:46,761 : INFO : EPOCH 3 - PROGRESS: at 50.27% examples, 378005 words/s, in_qsize 1, out_qsize 0\n",
      "2023-05-20 20:52:47,764 : INFO : EPOCH 3 - PROGRESS: at 60.36% examples, 378495 words/s, in_qsize 1, out_qsize 0\n",
      "2023-05-20 20:52:48,769 : INFO : EPOCH 3 - PROGRESS: at 70.46% examples, 378916 words/s, in_qsize 1, out_qsize 0\n",
      "2023-05-20 20:52:49,784 : INFO : EPOCH 3 - PROGRESS: at 80.85% examples, 379425 words/s, in_qsize 1, out_qsize 0\n",
      "2023-05-20 20:52:50,792 : INFO : EPOCH 3 - PROGRESS: at 90.50% examples, 377263 words/s, in_qsize 1, out_qsize 0\n",
      "2023-05-20 20:52:51,712 : INFO : EPOCH 3: training on 5722154 raw words (3777029 effective words) took 10.0s, 377987 effective words/s\n",
      "2023-05-20 20:52:52,732 : INFO : EPOCH 4 - PROGRESS: at 10.20% examples, 382400 words/s, in_qsize 1, out_qsize 0\n",
      "2023-05-20 20:52:53,748 : INFO : EPOCH 4 - PROGRESS: at 20.49% examples, 382726 words/s, in_qsize 1, out_qsize 0\n",
      "2023-05-20 20:52:54,765 : INFO : EPOCH 4 - PROGRESS: at 30.84% examples, 382542 words/s, in_qsize 1, out_qsize 0\n",
      "2023-05-20 20:52:55,782 : INFO : EPOCH 4 - PROGRESS: at 41.09% examples, 382590 words/s, in_qsize 1, out_qsize 0\n",
      "2023-05-20 20:52:56,783 : INFO : EPOCH 4 - PROGRESS: at 51.11% examples, 382588 words/s, in_qsize 1, out_qsize 0\n",
      "2023-05-20 20:52:57,786 : INFO : EPOCH 4 - PROGRESS: at 61.22% examples, 382422 words/s, in_qsize 1, out_qsize 0\n",
      "2023-05-20 20:52:58,787 : INFO : EPOCH 4 - PROGRESS: at 71.37% examples, 382460 words/s, in_qsize 1, out_qsize 0\n",
      "2023-05-20 20:52:59,801 : INFO : EPOCH 4 - PROGRESS: at 81.72% examples, 382548 words/s, in_qsize 1, out_qsize 0\n",
      "2023-05-20 20:53:00,815 : INFO : EPOCH 4 - PROGRESS: at 92.10% examples, 382666 words/s, in_qsize 1, out_qsize 0\n",
      "2023-05-20 20:53:01,581 : INFO : EPOCH 4: training on 5722154 raw words (3776268 effective words) took 9.9s, 382802 effective words/s\n",
      "2023-05-20 20:53:01,582 : INFO : Word2Vec lifecycle event {'msg': 'training on 28610770 raw words (18880944 effective words) took 49.8s, 379335 effective words/s', 'datetime': '2023-05-20T20:53:01.582392', 'gensim': '4.3.1', 'python': '3.10.10 (main, Mar 21 2023, 13:41:39) [Clang 14.0.6 ]', 'platform': 'macOS-10.16-x86_64-i386-64bit', 'event': 'train'}\n",
      "2023-05-20 20:53:01,582 : INFO : Word2Vec lifecycle event {'params': 'Word2Vec<vocab=26763, vector_size=300, alpha=0.025>', 'datetime': '2023-05-20T20:53:01.582684', 'gensim': '4.3.1', 'python': '3.10.10 (main, Mar 21 2023, 13:41:39) [Clang 14.0.6 ]', 'platform': 'macOS-10.16-x86_64-i386-64bit', 'event': 'created'}\n",
      "2023-05-20 20:53:01,658 : WARNING : destructive init_sims(replace=True) deprecated & no longer required for space-efficiency\n",
      "2023-05-20 20:53:01,661 : INFO : Word2Vec lifecycle event {'fname_or_handle': '300features_5minwords_20context', 'separately': 'None', 'sep_limit': 10485760, 'ignore': frozenset(), 'datetime': '2023-05-20T20:53:01.661141', 'gensim': '4.3.1', 'python': '3.10.10 (main, Mar 21 2023, 13:41:39) [Clang 14.0.6 ]', 'platform': 'macOS-10.16-x86_64-i386-64bit', 'event': 'saving'}\n",
      "2023-05-20 20:53:01,661 : INFO : not storing attribute cum_table\n",
      "2023-05-20 20:53:01,696 : INFO : saved 300features_5minwords_20context\n"
     ]
    }
   ],
   "source": [
    "# Import the built-in logging module and configure it so that Word2Vec \n",
    "# creates nice output messages\n",
    "logging.basicConfig(format='%(asctime)s : %(levelname)s : %(message)s', level=logging.INFO)\n",
    "\n",
    "num_features = 300      # Word vector dimensionality                      \n",
    "min_word_count = 5      # Minimum word count                        \n",
    "num_workers = 1         # Number of threads to run in parallel\n",
    "context = 20            # Context window size                                                                                    \n",
    "downsampling = 1e-4     # Downsample setting for frequent words\n",
    "\n",
    "\n",
    "# Initialize and train the model\n",
    "print (\"Training model...\")\n",
    "model = word2vec.Word2Vec(sentences, \n",
    "                          workers=num_workers,\n",
    "                          vector_size=num_features,\n",
    "                          min_count=min_word_count,\n",
    "                          window=context, \n",
    "                          sample=downsampling)\n",
    "\n",
    "# Call init_sims because we won't train the model any further \n",
    "# This will make the model much more memory-efficient.\n",
    "model.init_sims(replace=True)\n",
    "\n",
    "# save the model for potential, future use.\n",
    "model_name = \"{}features_{}minwords_{}context\".format(num_features,min_word_count,context)\n",
    "model.save(model_name)\n"
   ]
  },
  {
   "cell_type": "code",
   "execution_count": 45,
   "metadata": {
    "scrolled": false
   },
   "outputs": [
    {
     "name": "stdout",
     "output_type": "stream",
     "text": [
      "Requirement already satisfied: gensim in /Users/mohitkapoor/anaconda3/envs/Thesis/lib/python3.10/site-packages (4.3.1)\n",
      "Requirement already satisfied: numpy>=1.18.5 in /Users/mohitkapoor/anaconda3/envs/Thesis/lib/python3.10/site-packages (from gensim) (1.23.5)\n",
      "Requirement already satisfied: scipy>=1.7.0 in /Users/mohitkapoor/anaconda3/envs/Thesis/lib/python3.10/site-packages (from gensim) (1.10.1)\n",
      "Requirement already satisfied: smart-open>=1.8.1 in /Users/mohitkapoor/anaconda3/envs/Thesis/lib/python3.10/site-packages (from gensim) (6.3.0)\n",
      "Note: you may need to restart the kernel to use updated packages.\n"
     ]
    }
   ],
   "source": [
    "pip install gensim"
   ]
  },
  {
   "cell_type": "code",
   "execution_count": 46,
   "metadata": {
    "colab": {},
    "colab_type": "code",
    "id": "L81V8UJldZDu",
    "scrolled": true
   },
   "outputs": [
    {
     "name": "stderr",
     "output_type": "stream",
     "text": [
      "2023-05-20 20:53:16,419 : INFO : loading Word2Vec object from 300features_5minwords_20context\n",
      "2023-05-20 20:53:16,479 : INFO : loading wv recursively from 300features_5minwords_20context.wv.* with mmap=None\n",
      "2023-05-20 20:53:16,480 : INFO : setting ignored attribute cum_table to None\n",
      "2023-05-20 20:53:16,640 : INFO : Word2Vec lifecycle event {'fname': '300features_5minwords_20context', 'datetime': '2023-05-20T20:53:16.640782', 'gensim': '4.3.1', 'python': '3.10.10 (main, Mar 21 2023, 13:41:39) [Clang 14.0.6 ]', 'platform': 'macOS-10.16-x86_64-i386-64bit', 'event': 'loaded'}\n"
     ]
    }
   ],
   "source": [
    "# Load the model\n",
    "from gensim.models import Word2Vec\n",
    "\n",
    "# Load the saved model\n",
    "model = Word2Vec.load(\"300features_5minwords_20context\")\n"
   ]
  },
  {
   "cell_type": "code",
   "execution_count": 47,
   "metadata": {
    "colab": {
     "base_uri": "https://localhost:8080/",
     "height": 193
    },
    "colab_type": "code",
    "id": "ELWKtrLfdZD2",
    "outputId": "9a63e838-852a-47fd-d3ec-50184874f3a7"
   },
   "outputs": [
    {
     "data": {
      "text/plain": [
       "[('fantast', 0.7970462441444397),\n",
       " ('excel', 0.7844277620315552),\n",
       " ('amaz', 0.714378833770752),\n",
       " ('superb', 0.6950157284736633),\n",
       " ('terrif', 0.683709442615509),\n",
       " ('phenomen', 0.6758887767791748),\n",
       " ('fine', 0.6745245456695557),\n",
       " ('outstand', 0.6666179895401001),\n",
       " ('wonder', 0.6660358905792236),\n",
       " ('fabul', 0.6602069735527039)]"
      ]
     },
     "execution_count": 47,
     "metadata": {},
     "output_type": "execute_result"
    }
   ],
   "source": [
    "model.wv.most_similar(\"great\")"
   ]
  },
  {
   "cell_type": "code",
   "execution_count": 48,
   "metadata": {
    "colab": {
     "base_uri": "https://localhost:8080/",
     "height": 193
    },
    "colab_type": "code",
    "id": "OAHKYhFydZEB",
    "outputId": "20b96545-5f69-4685-a381-b93ba9ab0156",
    "scrolled": false
   },
   "outputs": [
    {
     "data": {
      "text/plain": [
       "[('weav', 0.731885552406311),\n",
       " ('straightforward', 0.7187405228614807),\n",
       " ('intertwin', 0.7091871500015259),\n",
       " ('simpl', 0.6856399178504944),\n",
       " ('arc', 0.6851637959480286),\n",
       " ('intric', 0.6762333512306213),\n",
       " ('unfold', 0.662662923336029),\n",
       " ('complex', 0.659881591796875),\n",
       " ('woven', 0.6492961049079895),\n",
       " ('cohes', 0.6445114612579346)]"
      ]
     },
     "execution_count": 48,
     "metadata": {},
     "output_type": "execute_result"
    }
   ],
   "source": [
    "model.wv.most_similar(\"stori\")"
   ]
  },
  {
   "cell_type": "code",
   "execution_count": 49,
   "metadata": {
    "colab": {
     "base_uri": "https://localhost:8080/",
     "height": 193
    },
    "colab_type": "code",
    "id": "huPBNB9ogvbj",
    "outputId": "a1ba9f95-e562-409d-8150-c91436a5e641",
    "scrolled": true
   },
   "outputs": [
    {
     "data": {
      "text/plain": [
       "[('aw', 0.8378185033798218),\n",
       " ('horribl', 0.8315203189849854),\n",
       " ('terribl', 0.8236361145973206),\n",
       " ('wors', 0.8034026026725769),\n",
       " ('crappi', 0.7877442836761475),\n",
       " ('suck', 0.7849297523498535),\n",
       " ('lousi', 0.7629126310348511),\n",
       " ('lame', 0.752973735332489),\n",
       " ('stupid', 0.747353732585907),\n",
       " ('atroci', 0.7379314303398132)]"
      ]
     },
     "execution_count": 49,
     "metadata": {},
     "output_type": "execute_result"
    }
   ],
   "source": [
    "model.wv.most_similar(\"bad\")"
   ]
  },
  {
   "cell_type": "code",
   "execution_count": 50,
   "metadata": {
    "colab": {
     "base_uri": "https://localhost:8080/",
     "height": 34
    },
    "colab_type": "code",
    "id": "gx4pp2ZNdZEJ",
    "outputId": "40e8092b-9847-4072-cbb7-c2aebdc3b435",
    "scrolled": true
   },
   "outputs": [
    {
     "data": {
      "text/plain": [
       "(26763, 300)"
      ]
     },
     "execution_count": 50,
     "metadata": {},
     "output_type": "execute_result"
    }
   ],
   "source": [
    "model.wv.vectors.shape"
   ]
  },
  {
   "cell_type": "markdown",
   "metadata": {
    "colab_type": "text",
    "id": "jIMmtVX9WHB2"
   },
   "source": [
    "## <h2> <center>Bag of Centroids</center></h2>"
   ]
  },
  {
   "cell_type": "code",
   "execution_count": 51,
   "metadata": {
    "colab": {
     "base_uri": "https://localhost:8080/",
     "height": 1000
    },
    "colab_type": "code",
    "id": "oTuXyfZ-dZEQ",
    "outputId": "37dad406-fdf2-43f2-bb5a-424a57fe0537"
   },
   "outputs": [
    {
     "name": "stdout",
     "output_type": "stream",
     "text": [
      "Initialization complete\n",
      "Iteration 0, inertia 3759.376220703125.\n",
      "Iteration 1, inertia 2876.26513671875.\n",
      "Iteration 2, inertia 2820.41015625.\n",
      "Iteration 3, inertia 2801.77880859375.\n",
      "Iteration 4, inertia 2793.656494140625.\n",
      "Iteration 5, inertia 2789.749755859375.\n",
      "Iteration 6, inertia 2787.7548828125.\n",
      "Iteration 7, inertia 2786.6044921875.\n",
      "Iteration 8, inertia 2786.0771484375.\n",
      "Iteration 9, inertia 2785.74462890625.\n",
      "Iteration 10, inertia 2785.5546875.\n",
      "Iteration 11, inertia 2785.460693359375.\n",
      "Iteration 12, inertia 2785.34716796875.\n",
      "Iteration 13, inertia 2785.30224609375.\n",
      "Converged at iteration 13: strict convergence.\n",
      "Initialization complete\n",
      "Iteration 0, inertia 3759.567626953125.\n",
      "Iteration 1, inertia 2877.71533203125.\n",
      "Iteration 2, inertia 2820.391845703125.\n",
      "Iteration 3, inertia 2800.448486328125.\n",
      "Iteration 4, inertia 2790.908935546875.\n",
      "Iteration 5, inertia 2785.6396484375.\n",
      "Iteration 6, inertia 2782.633544921875.\n",
      "Iteration 7, inertia 2781.095703125.\n",
      "Iteration 8, inertia 2780.27294921875.\n",
      "Iteration 9, inertia 2779.86669921875.\n",
      "Iteration 10, inertia 2779.65234375.\n",
      "Iteration 11, inertia 2779.5859375.\n",
      "Iteration 12, inertia 2779.4755859375.\n",
      "Iteration 13, inertia 2779.4365234375.\n",
      "Iteration 14, inertia 2779.38818359375.\n",
      "Iteration 15, inertia 2779.361572265625.\n",
      "Iteration 16, inertia 2779.34033203125.\n",
      "Iteration 17, inertia 2779.307373046875.\n",
      "Iteration 18, inertia 2779.24462890625.\n",
      "Iteration 19, inertia 2779.193359375.\n",
      "Converged at iteration 19: strict convergence.\n",
      "Initialization complete\n",
      "Iteration 0, inertia 3759.75537109375.\n",
      "Iteration 1, inertia 2883.558837890625.\n",
      "Iteration 2, inertia 2825.890625.\n",
      "Iteration 3, inertia 2805.924072265625.\n",
      "Iteration 4, inertia 2796.72314453125.\n",
      "Iteration 5, inertia 2791.804931640625.\n",
      "Iteration 6, inertia 2789.4736328125.\n",
      "Iteration 7, inertia 2788.03271484375.\n",
      "Iteration 8, inertia 2787.434326171875.\n",
      "Iteration 9, inertia 2787.031494140625.\n",
      "Iteration 10, inertia 2786.77001953125.\n",
      "Iteration 11, inertia 2786.491455078125.\n",
      "Iteration 12, inertia 2786.357421875.\n",
      "Iteration 13, inertia 2786.263671875.\n",
      "Iteration 14, inertia 2786.15087890625.\n",
      "Iteration 15, inertia 2786.11572265625.\n",
      "Iteration 16, inertia 2786.02294921875.\n",
      "Iteration 17, inertia 2785.9326171875.\n",
      "Iteration 18, inertia 2785.87890625.\n",
      "Iteration 19, inertia 2785.86181640625.\n",
      "Iteration 20, inertia 2785.847900390625.\n",
      "Iteration 21, inertia 2785.7900390625.\n",
      "Iteration 22, inertia 2785.77978515625.\n",
      "Iteration 23, inertia 2785.763671875.\n",
      "Converged at iteration 23: strict convergence.\n",
      "Initialization complete\n",
      "Iteration 0, inertia 3759.5009765625.\n",
      "Iteration 1, inertia 2881.3056640625.\n",
      "Iteration 2, inertia 2824.615234375.\n",
      "Iteration 3, inertia 2804.6083984375.\n",
      "Iteration 4, inertia 2795.935546875.\n",
      "Iteration 5, inertia 2791.45751953125.\n",
      "Iteration 6, inertia 2789.0234375.\n",
      "Iteration 7, inertia 2787.79052734375.\n",
      "Iteration 8, inertia 2786.98291015625.\n",
      "Iteration 9, inertia 2786.37744140625.\n",
      "Iteration 10, inertia 2786.0263671875.\n",
      "Iteration 11, inertia 2785.843017578125.\n",
      "Iteration 12, inertia 2785.673828125.\n",
      "Iteration 13, inertia 2785.547119140625.\n",
      "Iteration 14, inertia 2785.40673828125.\n",
      "Iteration 15, inertia 2785.281982421875.\n",
      "Iteration 16, inertia 2785.158935546875.\n",
      "Iteration 17, inertia 2785.078125.\n",
      "Iteration 18, inertia 2785.048828125.\n",
      "Converged at iteration 18: strict convergence.\n",
      "Initialization complete\n",
      "Iteration 0, inertia 3755.29931640625.\n",
      "Iteration 1, inertia 2876.636474609375.\n",
      "Iteration 2, inertia 2818.220703125.\n",
      "Iteration 3, inertia 2799.61083984375.\n",
      "Iteration 4, inertia 2790.921630859375.\n",
      "Iteration 5, inertia 2786.5751953125.\n",
      "Iteration 6, inertia 2784.47314453125.\n",
      "Iteration 7, inertia 2783.34130859375.\n",
      "Iteration 8, inertia 2782.6533203125.\n",
      "Iteration 9, inertia 2782.0927734375.\n",
      "Iteration 10, inertia 2781.880859375.\n",
      "Iteration 11, inertia 2781.7138671875.\n",
      "Iteration 12, inertia 2781.634521484375.\n",
      "Iteration 13, inertia 2781.578369140625.\n",
      "Iteration 14, inertia 2781.56103515625.\n",
      "Converged at iteration 14: strict convergence.\n"
     ]
    }
   ],
   "source": [
    "# Set \"k\" (num_clusters) to be 1/5th of the vocabulary size, or an\n",
    "# average of 5 words per cluster\n",
    "word_vectors = model.wv.vectors\n",
    "num_clusters = int(word_vectors.shape[0] / 5)\n",
    "\n",
    "# Initalize a k-means object and use it to extract centroids\n",
    "kmeans_clustering = KMeans(n_clusters = num_clusters,\n",
    "                           n_init = 5,\n",
    "                           verbose = 2)\n",
    "idx = kmeans_clustering.fit_predict(word_vectors)"
   ]
  },
  {
   "cell_type": "code",
   "execution_count": 52,
   "metadata": {
    "colab": {},
    "colab_type": "code",
    "id": "EMuj_T6bdZEV"
   },
   "outputs": [],
   "source": [
    "# Create a Word / Index dictionary, mapping each vocabulary word to a cluster number                                                                                            \n",
    "word_centroid_map = dict(zip(model.wv.index_to_key, idx))"
   ]
  },
  {
   "cell_type": "code",
   "execution_count": 53,
   "metadata": {
    "colab": {
     "base_uri": "https://localhost:8080/",
     "height": 52
    },
    "colab_type": "code",
    "id": "0StSE_rPiJq3",
    "outputId": "8bd75ac1-16c5-4358-f52f-99ae2e3c02ff"
   },
   "outputs": [
    {
     "name": "stdout",
     "output_type": "stream",
     "text": [
      "Train dataset shape: (37500,), \n",
      "Test dataset shape: (12500,)\n"
     ]
    }
   ],
   "source": [
    "X = movies['review']\n",
    "y = movies['sentiment']\n",
    "# (np.array(movies['sentiment']))\n",
    "\n",
    "X_train, X_test, y_train, y_test = train_test_split(X, y, test_size=0.25, random_state=7)\n",
    "print(f\"Train dataset shape: {X_train.shape}, \\nTest dataset shape: {X_test.shape}\")"
   ]
  },
  {
   "cell_type": "code",
   "execution_count": 54,
   "metadata": {
    "colab": {
     "base_uri": "https://localhost:8080/",
     "height": 52
    },
    "colab_type": "code",
    "id": "5rWC7pjVdZEa",
    "outputId": "35217336-51cb-4d2c-d0f8-1c7ed75b9b50"
   },
   "outputs": [
    {
     "name": "stdout",
     "output_type": "stream",
     "text": [
      "Training reviews are clean\n",
      "Testing reviews are clean\n"
     ]
    }
   ],
   "source": [
    "# Clean the training and testing reviews.\n",
    "clean_train_reviews = []\n",
    "for review in X_train:\n",
    "    clean_train_reviews.append(review_to_wordlist(review))\n",
    "    \n",
    "print(\"Training reviews are clean\")  \n",
    "\n",
    "clean_test_reviews = []\n",
    "for review in X_test:\n",
    "    clean_test_reviews.append(review_to_wordlist(review))\n",
    "    \n",
    "print(\"Testing reviews are clean\") "
   ]
  },
  {
   "cell_type": "code",
   "execution_count": 55,
   "metadata": {
    "colab": {},
    "colab_type": "code",
    "id": "Ayis8lBhdZEh"
   },
   "outputs": [],
   "source": [
    "def create_bag_of_centroids(wordlist, word_centroid_map):    \n",
    "    # The number of clusters is equal to the highest cluster index\n",
    "    # in the word / centroid map\n",
    "    num_centroids = max(word_centroid_map.values()) + 1\n",
    "    \n",
    "    # Pre-allocate the bag of centroids vector (for speed)\n",
    "    bag_of_centroids = np.zeros(num_centroids, dtype=\"float32\")\n",
    "    \n",
    "    # Loop over the words in the review. If the word is in the vocabulary,\n",
    "    # find which cluster it belongs to, and increment that cluster count \n",
    "    for word in wordlist:\n",
    "        if word in word_centroid_map:\n",
    "            index = word_centroid_map[word]\n",
    "            bag_of_centroids[index] += 1\n",
    "    \n",
    "    return bag_of_centroids"
   ]
  },
  {
   "cell_type": "code",
   "execution_count": 56,
   "metadata": {
    "colab": {
     "base_uri": "https://localhost:8080/",
     "height": 34
    },
    "colab_type": "code",
    "id": "Z-bTEBHDdZEo",
    "outputId": "df18ed21-961f-44e1-d898-d86d8435076a"
   },
   "outputs": [
    {
     "name": "stdout",
     "output_type": "stream",
     "text": [
      "Training reviews are complete.\n"
     ]
    }
   ],
   "source": [
    "# Pre-allocate an array for the training set bags of centroids (for speed)\n",
    "train_centroids = np.zeros((X_train.size, num_clusters), dtype=\"float32\")\n",
    "\n",
    "# Transform the training set reviews into bags of centroids\n",
    "counter = 0\n",
    "for review in clean_train_reviews:\n",
    "    train_centroids[counter] = create_bag_of_centroids(review, word_centroid_map)\n",
    "    counter += 1\n",
    "\n",
    "print(\"Training reviews are complete.\")    "
   ]
  },
  {
   "cell_type": "code",
   "execution_count": 57,
   "metadata": {
    "colab": {
     "base_uri": "https://localhost:8080/",
     "height": 34
    },
    "colab_type": "code",
    "id": "cbK0bD0dp94z",
    "outputId": "630bb57e-afb3-4d61-a8c1-9a35baf61833"
   },
   "outputs": [
    {
     "name": "stdout",
     "output_type": "stream",
     "text": [
      "Testing reviews are complete.\n"
     ]
    }
   ],
   "source": [
    "# Repeat for test reviews \n",
    "test_centroids = np.zeros((X_test.size, num_clusters), dtype=\"float32\")\n",
    "\n",
    "counter = 0\n",
    "for review in clean_test_reviews:\n",
    "    test_centroids[counter] = create_bag_of_centroids(review, word_centroid_map )\n",
    "    counter += 1\n",
    "    \n",
    "print(\"Testing reviews are complete.\")  "
   ]
  },
  {
   "cell_type": "code",
   "execution_count": 58,
   "metadata": {
    "colab": {
     "base_uri": "https://localhost:8080/",
     "height": 52
    },
    "colab_type": "code",
    "id": "_h9wj9jaqOHW",
    "outputId": "93cd856a-1382-41c6-f781-47138da74af3",
    "scrolled": true
   },
   "outputs": [
    {
     "name": "stdout",
     "output_type": "stream",
     "text": [
      "Train centroids shape: (37500, 5352), \n",
      "Test centroids shape: (12500, 5352)\n"
     ]
    }
   ],
   "source": [
    "print(f\"Train centroids shape: {train_centroids.shape}, \\nTest centroids shape: {test_centroids.shape}\")"
   ]
  },
  {
   "cell_type": "markdown",
   "metadata": {
    "colab_type": "text",
    "id": "jpxd2orLV-dY"
   },
   "source": [
    "## <h2> <center>Modeling</center></h2>"
   ]
  },
  {
   "cell_type": "code",
   "execution_count": 59,
   "metadata": {
    "colab": {},
    "colab_type": "code",
    "id": "Boo1ny1dkf1e"
   },
   "outputs": [],
   "source": [
    "def plot_confusion_matrix(y_true, y_pred, ax, class_names  = ['Positive', 'Negative'], vmax=None,\n",
    "                           normalized=True, title='Confusion matrix'):\n",
    "    \"\"\"\n",
    "    Helper fuction to generate a clean Confusion Matrix using seaborn library.\n",
    "    y_true: True labels, y_pred: Model Predictions, class_names: Override if needed\n",
    "    normalized: True, gives the proportions instead of absolute numbers\n",
    "    \"\"\"\n",
    "    matrix = confusion_matrix(y_true,y_pred)\n",
    "    if normalized:\n",
    "        matrix = matrix.astype('float') / matrix.sum(axis=1)[:, np.newaxis]\n",
    "    annot_kws = {'fontsize':25, \n",
    "                'fontstyle': 'italic'}\n",
    "    sns.heatmap(matrix, vmax=vmax, annot=True,  annot_kws = annot_kws,\n",
    "                square=True, ax=ax, cbar=False,\n",
    "                cmap=sns.diverging_palette(20, 250, as_cmap=True), \n",
    "                linecolor='black', linewidths=0.5,\n",
    "                xticklabels=class_names)\n",
    "    ax.set_title(title, y=1.20, fontsize=16)\n",
    "    ax.set_ylabel('True labels', fontsize=12)\n",
    "    ax.set_xlabel('Predicted labels', y=1.10, fontsize=12)\n",
    "    ax.set_yticklabels(class_names, rotation=0)"
   ]
  },
  {
   "cell_type": "code",
   "execution_count": 60,
   "metadata": {
    "colab": {
     "base_uri": "https://localhost:8080/",
     "height": 105
    },
    "colab_type": "code",
    "id": "87LQi0YhdZFT",
    "outputId": "389d3e53-a110-42bb-90d7-9e7a6e0303fa"
   },
   "outputs": [
    {
     "data": {
      "text/html": [
       "<style>#sk-container-id-2 {color: black;background-color: white;}#sk-container-id-2 pre{padding: 0;}#sk-container-id-2 div.sk-toggleable {background-color: white;}#sk-container-id-2 label.sk-toggleable__label {cursor: pointer;display: block;width: 100%;margin-bottom: 0;padding: 0.3em;box-sizing: border-box;text-align: center;}#sk-container-id-2 label.sk-toggleable__label-arrow:before {content: \"▸\";float: left;margin-right: 0.25em;color: #696969;}#sk-container-id-2 label.sk-toggleable__label-arrow:hover:before {color: black;}#sk-container-id-2 div.sk-estimator:hover label.sk-toggleable__label-arrow:before {color: black;}#sk-container-id-2 div.sk-toggleable__content {max-height: 0;max-width: 0;overflow: hidden;text-align: left;background-color: #f0f8ff;}#sk-container-id-2 div.sk-toggleable__content pre {margin: 0.2em;color: black;border-radius: 0.25em;background-color: #f0f8ff;}#sk-container-id-2 input.sk-toggleable__control:checked~div.sk-toggleable__content {max-height: 200px;max-width: 100%;overflow: auto;}#sk-container-id-2 input.sk-toggleable__control:checked~label.sk-toggleable__label-arrow:before {content: \"▾\";}#sk-container-id-2 div.sk-estimator input.sk-toggleable__control:checked~label.sk-toggleable__label {background-color: #d4ebff;}#sk-container-id-2 div.sk-label input.sk-toggleable__control:checked~label.sk-toggleable__label {background-color: #d4ebff;}#sk-container-id-2 input.sk-hidden--visually {border: 0;clip: rect(1px 1px 1px 1px);clip: rect(1px, 1px, 1px, 1px);height: 1px;margin: -1px;overflow: hidden;padding: 0;position: absolute;width: 1px;}#sk-container-id-2 div.sk-estimator {font-family: monospace;background-color: #f0f8ff;border: 1px dotted black;border-radius: 0.25em;box-sizing: border-box;margin-bottom: 0.5em;}#sk-container-id-2 div.sk-estimator:hover {background-color: #d4ebff;}#sk-container-id-2 div.sk-parallel-item::after {content: \"\";width: 100%;border-bottom: 1px solid gray;flex-grow: 1;}#sk-container-id-2 div.sk-label:hover label.sk-toggleable__label {background-color: #d4ebff;}#sk-container-id-2 div.sk-serial::before {content: \"\";position: absolute;border-left: 1px solid gray;box-sizing: border-box;top: 0;bottom: 0;left: 50%;z-index: 0;}#sk-container-id-2 div.sk-serial {display: flex;flex-direction: column;align-items: center;background-color: white;padding-right: 0.2em;padding-left: 0.2em;position: relative;}#sk-container-id-2 div.sk-item {position: relative;z-index: 1;}#sk-container-id-2 div.sk-parallel {display: flex;align-items: stretch;justify-content: center;background-color: white;position: relative;}#sk-container-id-2 div.sk-item::before, #sk-container-id-2 div.sk-parallel-item::before {content: \"\";position: absolute;border-left: 1px solid gray;box-sizing: border-box;top: 0;bottom: 0;left: 50%;z-index: -1;}#sk-container-id-2 div.sk-parallel-item {display: flex;flex-direction: column;z-index: 1;position: relative;background-color: white;}#sk-container-id-2 div.sk-parallel-item:first-child::after {align-self: flex-end;width: 50%;}#sk-container-id-2 div.sk-parallel-item:last-child::after {align-self: flex-start;width: 50%;}#sk-container-id-2 div.sk-parallel-item:only-child::after {width: 0;}#sk-container-id-2 div.sk-dashed-wrapped {border: 1px dashed gray;margin: 0 0.4em 0.5em 0.4em;box-sizing: border-box;padding-bottom: 0.4em;background-color: white;}#sk-container-id-2 div.sk-label label {font-family: monospace;font-weight: bold;display: inline-block;line-height: 1.2em;}#sk-container-id-2 div.sk-label-container {text-align: center;}#sk-container-id-2 div.sk-container {/* jupyter's `normalize.less` sets `[hidden] { display: none; }` but bootstrap.min.css set `[hidden] { display: none !important; }` so we also need the `!important` here to be able to override the default hidden behavior on the sphinx rendered scikit-learn.org. See: https://github.com/scikit-learn/scikit-learn/issues/21755 */display: inline-block !important;position: relative;}#sk-container-id-2 div.sk-text-repr-fallback {display: none;}</style><div id=\"sk-container-id-2\" class=\"sk-top-container\"><div class=\"sk-text-repr-fallback\"><pre>LogisticRegression(C=0.01, max_iter=6)</pre><b>In a Jupyter environment, please rerun this cell to show the HTML representation or trust the notebook. <br />On GitHub, the HTML representation is unable to render, please try loading this page with nbviewer.org.</b></div><div class=\"sk-container\" hidden><div class=\"sk-item\"><div class=\"sk-estimator sk-toggleable\"><input class=\"sk-toggleable__control sk-hidden--visually\" id=\"sk-estimator-id-2\" type=\"checkbox\" checked><label for=\"sk-estimator-id-2\" class=\"sk-toggleable__label sk-toggleable__label-arrow\">LogisticRegression</label><div class=\"sk-toggleable__content\"><pre>LogisticRegression(C=0.01, max_iter=6)</pre></div></div></div></div></div>"
      ],
      "text/plain": [
       "LogisticRegression(C=0.01, max_iter=6)"
      ]
     },
     "execution_count": 60,
     "metadata": {},
     "output_type": "execute_result"
    }
   ],
   "source": [
    "lr_model = lr(C = 0.01,\n",
    "              max_iter = 6,\n",
    "              fit_intercept = True)\n",
    "\n",
    "lr_model.fit(train_centroids, y_train)"
   ]
  },
  {
   "cell_type": "code",
   "execution_count": 61,
   "metadata": {
    "colab": {
     "base_uri": "https://localhost:8080/",
     "height": 34
    },
    "colab_type": "code",
    "id": "5a81HqPMkHfi",
    "outputId": "85d929b5-4f8d-4f1c-9cf9-b91288b83e82",
    "scrolled": true
   },
   "outputs": [
    {
     "name": "stdout",
     "output_type": "stream",
     "text": [
      "Test set Accuracy:  85.872\n",
      "Training set Accuracy:  86.68266666666666\n"
     ]
    }
   ],
   "source": [
    "lr_pred = lr_model.predict(test_centroids)\n",
    "pred_train=lr_model.predict(train_centroids)\n",
    "print(\"Test set Accuracy: \", accuracy_score(lr_pred, y_test)*100)\n",
    "print(\"Training set Accuracy: \", accuracy_score(pred_train, y_train)*100)"
   ]
  },
  {
   "cell_type": "code",
   "execution_count": 68,
   "metadata": {},
   "outputs": [
    {
     "name": "stdout",
     "output_type": "stream",
     "text": [
      "Accuracy: 0.85872\n",
      "Precision: 0.8588062564619925\n",
      "Recall: 0.85872\n",
      "F1 Score: 0.8587145602383278\n",
      "Confusion Matrix:\n",
      "[[5335  930]\n",
      " [ 836 5399]]\n"
     ]
    },
    {
     "data": {
      "image/png": "[encoded data removed]",
      "text/plain": [
       "<Figure size 640x480 with 2 Axes>"
      ]
     },
     "metadata": {},
     "output_type": "display_data"
    }
   ],
   "source": [
    "from sklearn.metrics import accuracy_score, precision_score, recall_score, f1_score, confusion_matrix\n",
    "import seaborn as sns\n",
    "import matplotlib.pyplot as plt\n",
    "\n",
    "# Make predictions on test data\n",
    "y_pred = lr_model.predict(test_centroids)\n",
    "\n",
    "# Evaluate the model\n",
    "accuracy = accuracy_score(y_test, y_pred)\n",
    "precision = precision_score(y_test, y_pred, average='weighted')\n",
    "recall = recall_score(y_test, y_pred, average='weighted')\n",
    "f1 = f1_score(y_test, y_pred, average='weighted')\n",
    "conf_matrix = confusion_matrix(y_test, y_pred)\n",
    "\n",
    "print('Accuracy:', accuracy)\n",
    "print('Precision:', precision)\n",
    "print('Recall:', recall)\n",
    "print('F1 Score:', f1)\n",
    "print('Confusion Matrix:')\n",
    "print(conf_matrix)\n",
    "\n",
    "# Plot the confusion matrix using heatmap\n",
    "sns.heatmap(conf_matrix, annot=True, cmap='YlOrBr', fmt='g', xticklabels=lr_model.classes_, yticklabels=lr_model.classes_)\n",
    "\n",
    "plt.xlabel('Predicted label')\n",
    "\n",
    "plt.ylabel('True label')\n",
    "\n",
    "plt.show()"
   ]
  },
  {
   "cell_type": "code",
   "execution_count": 69,
   "metadata": {
    "colab": {
     "base_uri": "https://localhost:8080/",
     "height": 318
    },
    "colab_type": "code",
    "id": "zED3_fAekHcG",
    "outputId": "7958aea5-5521-4545-f757-380ba8dc9b31"
   },
   "outputs": [
    {
     "data": {
      "image/png": "[encoded data removed]",
      "text/plain": [
       "<Figure size 640x480 with 1 Axes>"
      ]
     },
     "metadata": {},
     "output_type": "display_data"
    }
   ],
   "source": [
    "fig, axis1 = plt.subplots(nrows=1, ncols=1)\n",
    "plot_confusion_matrix(y_test, lr_pred, ax=axis1,\n",
    "                       title='Confusion matrix (lr)')"
   ]
  },
  {
   "cell_type": "code",
   "execution_count": 70,
   "metadata": {
    "colab": {
     "base_uri": "https://localhost:8080/",
     "height": 87
    },
    "colab_type": "code",
    "id": "Pq7xi37SdZFZ",
    "outputId": "96a4c1d3-ccdc-4fd2-b514-08c54b6fbbca"
   },
   "outputs": [
    {
     "data": {
      "text/html": [
       "<style>#sk-container-id-3 {color: black;background-color: white;}#sk-container-id-3 pre{padding: 0;}#sk-container-id-3 div.sk-toggleable {background-color: white;}#sk-container-id-3 label.sk-toggleable__label {cursor: pointer;display: block;width: 100%;margin-bottom: 0;padding: 0.3em;box-sizing: border-box;text-align: center;}#sk-container-id-3 label.sk-toggleable__label-arrow:before {content: \"▸\";float: left;margin-right: 0.25em;color: #696969;}#sk-container-id-3 label.sk-toggleable__label-arrow:hover:before {color: black;}#sk-container-id-3 div.sk-estimator:hover label.sk-toggleable__label-arrow:before {color: black;}#sk-container-id-3 div.sk-toggleable__content {max-height: 0;max-width: 0;overflow: hidden;text-align: left;background-color: #f0f8ff;}#sk-container-id-3 div.sk-toggleable__content pre {margin: 0.2em;color: black;border-radius: 0.25em;background-color: #f0f8ff;}#sk-container-id-3 input.sk-toggleable__control:checked~div.sk-toggleable__content {max-height: 200px;max-width: 100%;overflow: auto;}#sk-container-id-3 input.sk-toggleable__control:checked~label.sk-toggleable__label-arrow:before {content: \"▾\";}#sk-container-id-3 div.sk-estimator input.sk-toggleable__control:checked~label.sk-toggleable__label {background-color: #d4ebff;}#sk-container-id-3 div.sk-label input.sk-toggleable__control:checked~label.sk-toggleable__label {background-color: #d4ebff;}#sk-container-id-3 input.sk-hidden--visually {border: 0;clip: rect(1px 1px 1px 1px);clip: rect(1px, 1px, 1px, 1px);height: 1px;margin: -1px;overflow: hidden;padding: 0;position: absolute;width: 1px;}#sk-container-id-3 div.sk-estimator {font-family: monospace;background-color: #f0f8ff;border: 1px dotted black;border-radius: 0.25em;box-sizing: border-box;margin-bottom: 0.5em;}#sk-container-id-3 div.sk-estimator:hover {background-color: #d4ebff;}#sk-container-id-3 div.sk-parallel-item::after {content: \"\";width: 100%;border-bottom: 1px solid gray;flex-grow: 1;}#sk-container-id-3 div.sk-label:hover label.sk-toggleable__label {background-color: #d4ebff;}#sk-container-id-3 div.sk-serial::before {content: \"\";position: absolute;border-left: 1px solid gray;box-sizing: border-box;top: 0;bottom: 0;left: 50%;z-index: 0;}#sk-container-id-3 div.sk-serial {display: flex;flex-direction: column;align-items: center;background-color: white;padding-right: 0.2em;padding-left: 0.2em;position: relative;}#sk-container-id-3 div.sk-item {position: relative;z-index: 1;}#sk-container-id-3 div.sk-parallel {display: flex;align-items: stretch;justify-content: center;background-color: white;position: relative;}#sk-container-id-3 div.sk-item::before, #sk-container-id-3 div.sk-parallel-item::before {content: \"\";position: absolute;border-left: 1px solid gray;box-sizing: border-box;top: 0;bottom: 0;left: 50%;z-index: -1;}#sk-container-id-3 div.sk-parallel-item {display: flex;flex-direction: column;z-index: 1;position: relative;background-color: white;}#sk-container-id-3 div.sk-parallel-item:first-child::after {align-self: flex-end;width: 50%;}#sk-container-id-3 div.sk-parallel-item:last-child::after {align-self: flex-start;width: 50%;}#sk-container-id-3 div.sk-parallel-item:only-child::after {width: 0;}#sk-container-id-3 div.sk-dashed-wrapped {border: 1px dashed gray;margin: 0 0.4em 0.5em 0.4em;box-sizing: border-box;padding-bottom: 0.4em;background-color: white;}#sk-container-id-3 div.sk-label label {font-family: monospace;font-weight: bold;display: inline-block;line-height: 1.2em;}#sk-container-id-3 div.sk-label-container {text-align: center;}#sk-container-id-3 div.sk-container {/* jupyter's `normalize.less` sets `[hidden] { display: none; }` but bootstrap.min.css set `[hidden] { display: none !important; }` so we also need the `!important` here to be able to override the default hidden behavior on the sphinx rendered scikit-learn.org. See: https://github.com/scikit-learn/scikit-learn/issues/21755 */display: inline-block !important;position: relative;}#sk-container-id-3 div.sk-text-repr-fallback {display: none;}</style><div id=\"sk-container-id-3\" class=\"sk-top-container\"><div class=\"sk-text-repr-fallback\"><pre>LinearSVC()</pre><b>In a Jupyter environment, please rerun this cell to show the HTML representation or trust the notebook. <br />On GitHub, the HTML representation is unable to render, please try loading this page with nbviewer.org.</b></div><div class=\"sk-container\" hidden><div class=\"sk-item\"><div class=\"sk-estimator sk-toggleable\"><input class=\"sk-toggleable__control sk-hidden--visually\" id=\"sk-estimator-id-3\" type=\"checkbox\" checked><label for=\"sk-estimator-id-3\" class=\"sk-toggleable__label sk-toggleable__label-arrow\">LinearSVC</label><div class=\"sk-toggleable__content\"><pre>LinearSVC()</pre></div></div></div></div></div>"
      ],
      "text/plain": [
       "LinearSVC()"
      ]
     },
     "execution_count": 70,
     "metadata": {},
     "output_type": "execute_result"
    }
   ],
   "source": [
    "svc_model = svc()\n",
    "\n",
    "svc_model.fit(train_centroids, y_train)"
   ]
  },
  {
   "cell_type": "code",
   "execution_count": null,
   "metadata": {},
   "outputs": [],
   "source": []
  },
  {
   "cell_type": "code",
   "execution_count": 72,
   "metadata": {
    "colab": {
     "base_uri": "https://localhost:8080/",
     "height": 34
    },
    "colab_type": "code",
    "id": "x7x0VhONdZFe",
    "outputId": "f404f141-eaee-4796-b816-eeb802dde923"
   },
   "outputs": [
    {
     "name": "stdout",
     "output_type": "stream",
     "text": [
      "Test set Accuracy:  86.144\n",
      "Training set Accuracy:  94.072\n"
     ]
    }
   ],
   "source": [
    "svc_pred = svc_model.predict(test_centroids)\n",
    "pred_train=svc_model.predict(train_centroids)\n",
    "print(\"Test set Accuracy: \", accuracy_score(svc_pred, y_test)*100)\n",
    "print(\"Training set Accuracy: \", accuracy_score(pred_train, y_train)*100)"
   ]
  },
  {
   "cell_type": "code",
   "execution_count": 73,
   "metadata": {
    "colab": {
     "base_uri": "https://localhost:8080/",
     "height": 300
    },
    "colab_type": "code",
    "id": "Gnk5-IQJdZFl",
    "outputId": "80ea8d5a-d232-49ff-90f7-b8b1a0197e9d"
   },
   "outputs": [
    {
     "data": {
      "image/png": "[encoded data removed]",
      "text/plain": [
       "<Figure size 640x480 with 1 Axes>"
      ]
     },
     "metadata": {},
     "output_type": "display_data"
    }
   ],
   "source": [
    "fig, axis1 = plt.subplots(nrows=1, ncols=1)\n",
    "plot_confusion_matrix(y_test, svc_pred, ax=axis1,\n",
    "                       title='Confusion matrix (svc)')"
   ]
  },
  {
   "cell_type": "code",
   "execution_count": 74,
   "metadata": {
    "colab": {},
    "colab_type": "code",
    "id": "wcfTDUG3dZFt"
   },
   "outputs": [
    {
     "name": "stdout",
     "output_type": "stream",
     "text": [
      "Accuracy: 0.86144\n",
      "Precision: 0.8614742142623276\n",
      "Recall: 0.86144\n",
      "F1 Score: 0.861438559855558\n",
      "Confusion Matrix:\n",
      "[[5370  895]\n",
      " [ 837 5398]]\n"
     ]
    },
    {
     "data": {
      "image/png": "[encoded data removed]",
      "text/plain": [
       "<Figure size 640x480 with 2 Axes>"
      ]
     },
     "metadata": {},
     "output_type": "display_data"
    }
   ],
   "source": [
    "from sklearn.metrics import accuracy_score, precision_score, recall_score, f1_score, confusion_matrix\n",
    "import seaborn as sns\n",
    "import matplotlib.pyplot as plt\n",
    "\n",
    "# Make predictions on test data\n",
    "y_pred = svc_model.predict(test_centroids)\n",
    "\n",
    "# Evaluate the model\n",
    "accuracy = accuracy_score(y_test, y_pred)\n",
    "precision = precision_score(y_test, y_pred, average='weighted')\n",
    "recall = recall_score(y_test, y_pred, average='weighted')\n",
    "f1 = f1_score(y_test, y_pred, average='weighted')\n",
    "conf_matrix = confusion_matrix(y_test, y_pred)\n",
    "\n",
    "print('Accuracy:', accuracy)\n",
    "print('Precision:', precision)\n",
    "print('Recall:', recall)\n",
    "print('F1 Score:', f1)\n",
    "print('Confusion Matrix:')\n",
    "print(conf_matrix)\n",
    "\n",
    "# Plot the confusion matrix using heatmap\n",
    "sns.heatmap(conf_matrix, annot=True, cmap='YlOrBr', fmt='g', xticklabels=svc_model.classes_, yticklabels=svc_model.classes_)\n",
    "\n",
    "plt.xlabel('Predicted label')\n",
    "\n",
    "plt.ylabel('True label')\n",
    "\n",
    "plt.show()"
   ]
  },
  {
   "cell_type": "code",
   "execution_count": 0,
   "metadata": {
    "colab": {},
    "colab_type": "code",
    "id": "tkGgVi_CdZF0"
   },
   "outputs": [],
   "source": []
  }
 ],
 "metadata": {
  "colab": {
   "name": "word2vec_bag_of_centroids_predictions.ipynb",
   "provenance": []
  },
  "kernelspec": {
   "display_name": "Python 3 (ipykernel)",
   "language": "python",
   "name": "python3"
  },
  "language_info": {
   "codemirror_mode": {
    "name": "ipython",
    "version": 3
   },
   "file_extension": ".py",
   "mimetype": "text/x-python",
   "name": "python",
   "nbconvert_exporter": "python",
   "pygments_lexer": "ipython3",
   "version": "3.10.10"
  }
 },
 "nbformat": 4,
 "nbformat_minor": 1
}
